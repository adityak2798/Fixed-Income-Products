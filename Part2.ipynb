{
 "cells": [
  {
   "cell_type": "code",
   "execution_count": 1,
   "id": "1bdf133e",
   "metadata": {},
   "outputs": [],
   "source": [
    "import numpy as np\n",
    "import pandas as pd\n",
    "from scipy.stats import norm\n",
    "from scipy.optimize import brentq\n",
    "import matplotlib.pylab as plt\n",
    "from scipy.optimize import least_squares\n"
   ]
  },
  {
   "cell_type": "code",
   "execution_count": 2,
   "id": "22736bbb",
   "metadata": {},
   "outputs": [],
   "source": [
    "frwd_swaprate=  pd.read_csv(\"df_ForwardSwap.csv\")    #import the forward swap rates "
   ]
  },
  {
   "cell_type": "code",
   "execution_count": 3,
   "id": "c1f383ee",
   "metadata": {},
   "outputs": [],
   "source": [
    "rates=pd.read_csv(\"df_comb.csv\")  #From part 1"
   ]
  },
  {
   "cell_type": "code",
   "execution_count": 4,
   "id": "f4b5d4a7",
   "metadata": {},
   "outputs": [],
   "source": [
    "IVs=pd.read_excel(\"IR Data.xlsx\",sheet_name=\"Swaption\")"
   ]
  },
  {
   "cell_type": "code",
   "execution_count": 5,
   "id": "ba2bd079",
   "metadata": {},
   "outputs": [],
   "source": [
    "IVs.columns=IVs.iloc[1]"
   ]
  },
  {
   "cell_type": "code",
   "execution_count": 6,
   "id": "0eb7f310",
   "metadata": {},
   "outputs": [],
   "source": [
    "IVs.drop([0,1],inplace=True)"
   ]
  },
  {
   "cell_type": "code",
   "execution_count": 7,
   "id": "0e6d9cf7",
   "metadata": {},
   "outputs": [],
   "source": [
    "IVs.dropna(how=\"any\",axis=1,inplace=True)\n",
    "IVs.reset_index(inplace=True)\n",
    "IVs.drop(\"index\",axis=1,inplace=True)"
   ]
  },
  {
   "cell_type": "code",
   "execution_count": 8,
   "id": "51ebbf34",
   "metadata": {},
   "outputs": [],
   "source": [
    "IVs[\"Expiry\"]=IVs[\"Expiry\"].map(lambda x:int(x[:-1]))\n",
    "IVs[\"Tenor\"]=IVs[\"Tenor\"].map(lambda x:int(x[:-1]))\n"
   ]
  },
  {
   "cell_type": "code",
   "execution_count": 9,
   "id": "04ebb6cf",
   "metadata": {},
   "outputs": [],
   "source": [
    "IVs.iloc[:,2:]=IVs.iloc[:,2:]/100"
   ]
  },
  {
   "cell_type": "code",
   "execution_count": 10,
   "id": "28475b5e",
   "metadata": {},
   "outputs": [
    {
     "data": {
      "text/plain": "1  Expiry  Tenor -200bps -150bps  -100bps   -50bps   -25bps     ATM  +25bps  \\\n0       1      1  0.9157  0.6203   0.4413  0.31224  0.26182   0.225  0.2096   \n1       1      2  0.8327  0.6124   0.4657  0.35807  0.31712  0.2872  0.2712   \n2       1      3  0.7392  0.5687   0.4477  0.35745  0.32317  0.2978  0.2829   \n3       1      5  0.5519  0.4464   0.3651  0.30242  0.27851  0.2607  0.2498   \n4       1     10  0.4118  0.3504  0.30207  0.26619  0.25351  0.2447  0.2398   \n\n1  +50bps +100bps  +150bps  +200bps  \n0   0.214  0.2434  0.27488  0.30297  \n1  0.2684  0.2851  0.31025  0.33523  \n2   0.278  0.2877  0.30725  0.32833  \n3  0.2456  0.2512  0.26536  0.28165  \n4  0.2382  0.2425  0.25204  0.26355  ",
      "text/html": "<div>\n<style scoped>\n    .dataframe tbody tr th:only-of-type {\n        vertical-align: middle;\n    }\n\n    .dataframe tbody tr th {\n        vertical-align: top;\n    }\n\n    .dataframe thead th {\n        text-align: right;\n    }\n</style>\n<table border=\"1\" class=\"dataframe\">\n  <thead>\n    <tr style=\"text-align: right;\">\n      <th>1</th>\n      <th>Expiry</th>\n      <th>Tenor</th>\n      <th>-200bps</th>\n      <th>-150bps</th>\n      <th>-100bps</th>\n      <th>-50bps</th>\n      <th>-25bps</th>\n      <th>ATM</th>\n      <th>+25bps</th>\n      <th>+50bps</th>\n      <th>+100bps</th>\n      <th>+150bps</th>\n      <th>+200bps</th>\n    </tr>\n  </thead>\n  <tbody>\n    <tr>\n      <th>0</th>\n      <td>1</td>\n      <td>1</td>\n      <td>0.9157</td>\n      <td>0.6203</td>\n      <td>0.4413</td>\n      <td>0.31224</td>\n      <td>0.26182</td>\n      <td>0.225</td>\n      <td>0.2096</td>\n      <td>0.214</td>\n      <td>0.2434</td>\n      <td>0.27488</td>\n      <td>0.30297</td>\n    </tr>\n    <tr>\n      <th>1</th>\n      <td>1</td>\n      <td>2</td>\n      <td>0.8327</td>\n      <td>0.6124</td>\n      <td>0.4657</td>\n      <td>0.35807</td>\n      <td>0.31712</td>\n      <td>0.2872</td>\n      <td>0.2712</td>\n      <td>0.2684</td>\n      <td>0.2851</td>\n      <td>0.31025</td>\n      <td>0.33523</td>\n    </tr>\n    <tr>\n      <th>2</th>\n      <td>1</td>\n      <td>3</td>\n      <td>0.7392</td>\n      <td>0.5687</td>\n      <td>0.4477</td>\n      <td>0.35745</td>\n      <td>0.32317</td>\n      <td>0.2978</td>\n      <td>0.2829</td>\n      <td>0.278</td>\n      <td>0.2877</td>\n      <td>0.30725</td>\n      <td>0.32833</td>\n    </tr>\n    <tr>\n      <th>3</th>\n      <td>1</td>\n      <td>5</td>\n      <td>0.5519</td>\n      <td>0.4464</td>\n      <td>0.3651</td>\n      <td>0.30242</td>\n      <td>0.27851</td>\n      <td>0.2607</td>\n      <td>0.2498</td>\n      <td>0.2456</td>\n      <td>0.2512</td>\n      <td>0.26536</td>\n      <td>0.28165</td>\n    </tr>\n    <tr>\n      <th>4</th>\n      <td>1</td>\n      <td>10</td>\n      <td>0.4118</td>\n      <td>0.3504</td>\n      <td>0.30207</td>\n      <td>0.26619</td>\n      <td>0.25351</td>\n      <td>0.2447</td>\n      <td>0.2398</td>\n      <td>0.2382</td>\n      <td>0.2425</td>\n      <td>0.25204</td>\n      <td>0.26355</td>\n    </tr>\n  </tbody>\n</table>\n</div>"
     },
     "execution_count": 10,
     "metadata": {},
     "output_type": "execute_result"
    }
   ],
   "source": [
    "IVs.head() #cleaned dataframe"
   ]
  },
  {
   "cell_type": "code",
   "execution_count": 11,
   "id": "4bbba461",
   "metadata": {},
   "outputs": [],
   "source": [
    "strikes=IVs.copy(deep=True)\n",
    "for i in range(2,13):\n",
    "    strikes.iloc[:,i]=frwd_swaprate[\"Swap_Rate\"]"
   ]
  },
  {
   "cell_type": "code",
   "execution_count": 12,
   "id": "08d9aefb",
   "metadata": {},
   "outputs": [],
   "source": [
    "strikes.iloc[:,2]=strikes.iloc[:,2]-0.02\n",
    "strikes.iloc[:,3]=strikes.iloc[:,3]-0.015\n",
    "strikes.iloc[:,4]=strikes.iloc[:,4]-0.01\n",
    "strikes.iloc[:,5]=strikes.iloc[:,5]-0.005\n",
    "strikes.iloc[:,6]=strikes.iloc[:,6]-0.0025\n",
    "strikes.iloc[:,12]=strikes.iloc[:,12]+0.02\n",
    "strikes.iloc[:,11]=strikes.iloc[:,11]+0.015\n",
    "strikes.iloc[:,10]=strikes.iloc[:,10]+0.01\n",
    "strikes.iloc[:,9]=strikes.iloc[:,9]+0.005\n",
    "strikes.iloc[:,8]=strikes.iloc[:,8]+0.0025\n",
    "\n"
   ]
  },
  {
   "cell_type": "code",
   "execution_count": 13,
   "id": "038a42ef",
   "metadata": {},
   "outputs": [
    {
     "data": {
      "text/plain": "1  Expiry  Tenor   -200bps   -150bps   -100bps    -50bps    -25bps       ATM  \\\n0       1      1  0.011950  0.016950  0.021950  0.026950  0.029450  0.031950   \n1       1      2  0.013200  0.018200  0.023200  0.028200  0.030700  0.033200   \n2       1      3  0.013947  0.018947  0.023947  0.028947  0.031447  0.033947   \n3       1      5  0.015184  0.020184  0.025184  0.030184  0.032684  0.035184   \n4       1     10  0.018335  0.023335  0.028335  0.033335  0.035835  0.038335   \n\n1    +25bps    +50bps   +100bps   +150bps   +200bps  \n0  0.034450  0.036950  0.041950  0.046950  0.051950  \n1  0.035700  0.038200  0.043200  0.048200  0.053200  \n2  0.036447  0.038947  0.043947  0.048947  0.053947  \n3  0.037684  0.040184  0.045184  0.050184  0.055184  \n4  0.040835  0.043335  0.048335  0.053335  0.058335  ",
      "text/html": "<div>\n<style scoped>\n    .dataframe tbody tr th:only-of-type {\n        vertical-align: middle;\n    }\n\n    .dataframe tbody tr th {\n        vertical-align: top;\n    }\n\n    .dataframe thead th {\n        text-align: right;\n    }\n</style>\n<table border=\"1\" class=\"dataframe\">\n  <thead>\n    <tr style=\"text-align: right;\">\n      <th>1</th>\n      <th>Expiry</th>\n      <th>Tenor</th>\n      <th>-200bps</th>\n      <th>-150bps</th>\n      <th>-100bps</th>\n      <th>-50bps</th>\n      <th>-25bps</th>\n      <th>ATM</th>\n      <th>+25bps</th>\n      <th>+50bps</th>\n      <th>+100bps</th>\n      <th>+150bps</th>\n      <th>+200bps</th>\n    </tr>\n  </thead>\n  <tbody>\n    <tr>\n      <th>0</th>\n      <td>1</td>\n      <td>1</td>\n      <td>0.011950</td>\n      <td>0.016950</td>\n      <td>0.021950</td>\n      <td>0.026950</td>\n      <td>0.029450</td>\n      <td>0.031950</td>\n      <td>0.034450</td>\n      <td>0.036950</td>\n      <td>0.041950</td>\n      <td>0.046950</td>\n      <td>0.051950</td>\n    </tr>\n    <tr>\n      <th>1</th>\n      <td>1</td>\n      <td>2</td>\n      <td>0.013200</td>\n      <td>0.018200</td>\n      <td>0.023200</td>\n      <td>0.028200</td>\n      <td>0.030700</td>\n      <td>0.033200</td>\n      <td>0.035700</td>\n      <td>0.038200</td>\n      <td>0.043200</td>\n      <td>0.048200</td>\n      <td>0.053200</td>\n    </tr>\n    <tr>\n      <th>2</th>\n      <td>1</td>\n      <td>3</td>\n      <td>0.013947</td>\n      <td>0.018947</td>\n      <td>0.023947</td>\n      <td>0.028947</td>\n      <td>0.031447</td>\n      <td>0.033947</td>\n      <td>0.036447</td>\n      <td>0.038947</td>\n      <td>0.043947</td>\n      <td>0.048947</td>\n      <td>0.053947</td>\n    </tr>\n    <tr>\n      <th>3</th>\n      <td>1</td>\n      <td>5</td>\n      <td>0.015184</td>\n      <td>0.020184</td>\n      <td>0.025184</td>\n      <td>0.030184</td>\n      <td>0.032684</td>\n      <td>0.035184</td>\n      <td>0.037684</td>\n      <td>0.040184</td>\n      <td>0.045184</td>\n      <td>0.050184</td>\n      <td>0.055184</td>\n    </tr>\n    <tr>\n      <th>4</th>\n      <td>1</td>\n      <td>10</td>\n      <td>0.018335</td>\n      <td>0.023335</td>\n      <td>0.028335</td>\n      <td>0.033335</td>\n      <td>0.035835</td>\n      <td>0.038335</td>\n      <td>0.040835</td>\n      <td>0.043335</td>\n      <td>0.048335</td>\n      <td>0.053335</td>\n      <td>0.058335</td>\n    </tr>\n  </tbody>\n</table>\n</div>"
     },
     "execution_count": 13,
     "metadata": {},
     "output_type": "execute_result"
    }
   ],
   "source": [
    "strikes.head()"
   ]
  },
  {
   "cell_type": "code",
   "execution_count": 14,
   "id": "9e8943b0",
   "metadata": {},
   "outputs": [
    {
     "data": {
      "text/plain": "   Unnamed: 0  Tenor (year)  LIBOR Discount Factor  IRS Rate  OIS Rate  \\\n0           0           0.5               0.987654     0.025   0.00250   \n1           1           1.0               0.972579     0.028   0.00300   \n2           2           1.5               0.957406       NaN       NaN   \n3           3           2.0               0.942234     0.030   0.00325   \n4           4           2.5               0.926412       NaN       NaN   \n\n   OIS Discount Factor  OIS Overnight Rate  Forward LIBOR  \n0             0.997506            0.004994       0.025000  \n1             0.997009            0.000997       0.031001  \n2             0.995270                 NaN       0.031695  \n3             0.993531            0.003495       0.032205  \n4             0.991773                 NaN       0.034157  ",
      "text/html": "<div>\n<style scoped>\n    .dataframe tbody tr th:only-of-type {\n        vertical-align: middle;\n    }\n\n    .dataframe tbody tr th {\n        vertical-align: top;\n    }\n\n    .dataframe thead th {\n        text-align: right;\n    }\n</style>\n<table border=\"1\" class=\"dataframe\">\n  <thead>\n    <tr style=\"text-align: right;\">\n      <th></th>\n      <th>Unnamed: 0</th>\n      <th>Tenor (year)</th>\n      <th>LIBOR Discount Factor</th>\n      <th>IRS Rate</th>\n      <th>OIS Rate</th>\n      <th>OIS Discount Factor</th>\n      <th>OIS Overnight Rate</th>\n      <th>Forward LIBOR</th>\n    </tr>\n  </thead>\n  <tbody>\n    <tr>\n      <th>0</th>\n      <td>0</td>\n      <td>0.5</td>\n      <td>0.987654</td>\n      <td>0.025</td>\n      <td>0.00250</td>\n      <td>0.997506</td>\n      <td>0.004994</td>\n      <td>0.025000</td>\n    </tr>\n    <tr>\n      <th>1</th>\n      <td>1</td>\n      <td>1.0</td>\n      <td>0.972579</td>\n      <td>0.028</td>\n      <td>0.00300</td>\n      <td>0.997009</td>\n      <td>0.000997</td>\n      <td>0.031001</td>\n    </tr>\n    <tr>\n      <th>2</th>\n      <td>2</td>\n      <td>1.5</td>\n      <td>0.957406</td>\n      <td>NaN</td>\n      <td>NaN</td>\n      <td>0.995270</td>\n      <td>NaN</td>\n      <td>0.031695</td>\n    </tr>\n    <tr>\n      <th>3</th>\n      <td>3</td>\n      <td>2.0</td>\n      <td>0.942234</td>\n      <td>0.030</td>\n      <td>0.00325</td>\n      <td>0.993531</td>\n      <td>0.003495</td>\n      <td>0.032205</td>\n    </tr>\n    <tr>\n      <th>4</th>\n      <td>4</td>\n      <td>2.5</td>\n      <td>0.926412</td>\n      <td>NaN</td>\n      <td>NaN</td>\n      <td>0.991773</td>\n      <td>NaN</td>\n      <td>0.034157</td>\n    </tr>\n  </tbody>\n</table>\n</div>"
     },
     "execution_count": 14,
     "metadata": {},
     "output_type": "execute_result"
    }
   ],
   "source": [
    "rates.head()"
   ]
  },
  {
   "cell_type": "code",
   "execution_count": 15,
   "id": "c9b9dd54",
   "metadata": {},
   "outputs": [],
   "source": [
    "def impliedVolatility(F,K,T,exp,tenor,price):\n",
    "    impliedVol = brentq(lambda x: price -\n",
    "                                Black76Lognormal(F,K,T,x,exp,tenor),\n",
    "                                -1, 1)\n",
    "    return impliedVol\n",
    "\n",
    "\n",
    "\n",
    "\n",
    "\n",
    "def PVBP(exp, tenor):\n",
    "    \n",
    "        \n",
    "    return sum(0.5*rates[(rates[\"Tenor (year)\"]>exp)& (rates[\"Tenor (year)\"]<=tenor+exp)].reset_index()[\"OIS Discount Factor\"])\n",
    " \n",
    "\n",
    "\n",
    "\n",
    "\n",
    "def Black76Lognormal(F,K,T,sigma,exp,tenor):\n",
    "    d1 = (np.log(F/K)+(sigma*sigma/2)*T)/(sigma*np.sqrt(T))\n",
    "    d2 = d1-sigma*np.sqrt(T)\n",
    "    return F*PVBP(exp,tenor)*norm.cdf(d1) - K*PVBP(exp,tenor)*norm.cdf(d2)\n",
    "\n",
    "def Displaced_Diffusion(F, K, T, sigma, beta,exp,tenor):\n",
    "    return Black76Lognormal(F/beta, K+(1-beta)/beta*F, T,sigma*beta,exp,tenor)"
   ]
  },
  {
   "cell_type": "code",
   "execution_count": 16,
   "id": "1a82b31e",
   "metadata": {},
   "outputs": [],
   "source": [
    "\n",
    "prices=IVs.copy(deep=True)\n",
    "for i in IVs.index:\n",
    "    for j in range(2,13):\n",
    "     prices.iloc[i,j]=Black76Lognormal(frwd_swaprate.iloc[i,3],strikes.iloc[i,j],IVs.iloc[i,0],IVs.iloc[i,j],IVs.iloc[i,0],IVs.iloc[i,1])\n",
    "    "
   ]
  },
  {
   "cell_type": "code",
   "execution_count": 17,
   "id": "d5164f68",
   "metadata": {},
   "outputs": [
    {
     "data": {
      "text/plain": "1  Expiry  Tenor   -200bps   -150bps   -100bps    -50bps    -25bps       ATM  \\\n0       1      1  0.021089  0.016028  0.011202   0.00664  0.004574  0.002846   \n1       1      2  0.041916  0.032283  0.023055  0.014496  0.010713  0.007526   \n2       1      3  0.061992  0.047901  0.034384  0.021969  0.016536  0.011944   \n\n1    +25bps    +50bps   +100bps   +150bps   +200bps  \n0  0.001688  0.001078  0.000583  0.000385   0.00028  \n1  0.005156  0.003606  0.002049  0.001367  0.001001  \n2  0.008419  0.005967  0.003312  0.002111  0.001481  ",
      "text/html": "<div>\n<style scoped>\n    .dataframe tbody tr th:only-of-type {\n        vertical-align: middle;\n    }\n\n    .dataframe tbody tr th {\n        vertical-align: top;\n    }\n\n    .dataframe thead th {\n        text-align: right;\n    }\n</style>\n<table border=\"1\" class=\"dataframe\">\n  <thead>\n    <tr style=\"text-align: right;\">\n      <th>1</th>\n      <th>Expiry</th>\n      <th>Tenor</th>\n      <th>-200bps</th>\n      <th>-150bps</th>\n      <th>-100bps</th>\n      <th>-50bps</th>\n      <th>-25bps</th>\n      <th>ATM</th>\n      <th>+25bps</th>\n      <th>+50bps</th>\n      <th>+100bps</th>\n      <th>+150bps</th>\n      <th>+200bps</th>\n    </tr>\n  </thead>\n  <tbody>\n    <tr>\n      <th>0</th>\n      <td>1</td>\n      <td>1</td>\n      <td>0.021089</td>\n      <td>0.016028</td>\n      <td>0.011202</td>\n      <td>0.00664</td>\n      <td>0.004574</td>\n      <td>0.002846</td>\n      <td>0.001688</td>\n      <td>0.001078</td>\n      <td>0.000583</td>\n      <td>0.000385</td>\n      <td>0.00028</td>\n    </tr>\n    <tr>\n      <th>1</th>\n      <td>1</td>\n      <td>2</td>\n      <td>0.041916</td>\n      <td>0.032283</td>\n      <td>0.023055</td>\n      <td>0.014496</td>\n      <td>0.010713</td>\n      <td>0.007526</td>\n      <td>0.005156</td>\n      <td>0.003606</td>\n      <td>0.002049</td>\n      <td>0.001367</td>\n      <td>0.001001</td>\n    </tr>\n    <tr>\n      <th>2</th>\n      <td>1</td>\n      <td>3</td>\n      <td>0.061992</td>\n      <td>0.047901</td>\n      <td>0.034384</td>\n      <td>0.021969</td>\n      <td>0.016536</td>\n      <td>0.011944</td>\n      <td>0.008419</td>\n      <td>0.005967</td>\n      <td>0.003312</td>\n      <td>0.002111</td>\n      <td>0.001481</td>\n    </tr>\n  </tbody>\n</table>\n</div>"
     },
     "execution_count": 17,
     "metadata": {},
     "output_type": "execute_result"
    }
   ],
   "source": [
    "prices.head(3)"
   ]
  },
  {
   "cell_type": "markdown",
   "id": "f20f3d66",
   "metadata": {},
   "source": [
    "# Displaced Diffusion Calibration"
   ]
  },
  {
   "cell_type": "code",
   "execution_count": 18,
   "id": "acf2539e",
   "metadata": {},
   "outputs": [],
   "source": [
    "def Displaced_Diffusion_Calibration(x, strikes, prices,F , T,exp,tenor):  \n",
    "    err = 0.0\n",
    "    for i, price in enumerate(prices):\n",
    "        err += (price -  Displaced_Diffusion(F,strikes[i] , T, x[0], x[1],exp,tenor))**2\n",
    "            \n",
    "    return err"
   ]
  },
  {
   "cell_type": "code",
   "execution_count": 19,
   "id": "74b89520",
   "metadata": {},
   "outputs": [],
   "source": [
    "\n",
    "DD_sigma=pd.DataFrame(index=IVs.index,columns=[\"Expiry\",\"Tenor\",\"Sigma\"])\n",
    "DD_beta=pd.DataFrame(index=IVs.index,columns=[\"Expiry\",\"Tenor\",\"Beta\"])\n",
    "for i in IVs.index:\n",
    "    \n",
    "      res = least_squares(lambda x: Displaced_Diffusion_Calibration(x,\n",
    "                                             strikes.iloc[i,2:],\n",
    "                                             prices.iloc[i,2:],\n",
    "                                             frwd_swaprate.iloc[i,3],\n",
    "                                             IVs.loc[i,\"Expiry\"],IVs.iloc[i,0],IVs.iloc[i,1]),[0.5,0.2],bounds=([0,0],[np.inf,1]))\n",
    "\n",
    "      DD_sigma.iloc[i,:]=[IVs.iloc[i,0],IVs.iloc[i,1],res.x[0]]\n",
    "      DD_beta.iloc[i,:]=[IVs.iloc[i,0],IVs.iloc[i,1],res.x[1]]\n",
    "\n",
    "\n"
   ]
  },
  {
   "cell_type": "code",
   "execution_count": 20,
   "id": "25a979f7",
   "metadata": {},
   "outputs": [
    {
     "name": "stderr",
     "output_type": "stream",
     "text": [
      "/home/vp/Downloads/venv/lib/python3.10/site-packages/pandas/core/algorithms.py:794: FutureWarning: In a future version, the Index constructor will not infer numeric dtypes when passed object-dtype sequences (matching Series behavior)\n",
      "  uniques = Index(uniques)\n"
     ]
    },
    {
     "data": {
      "text/plain": "           Sigma                                        \nTenor         1         2         3         5         10\nExpiry                                                  \n1       0.403533   0.36408  0.333147  0.290906  0.252791\n5       0.307549  0.313167  0.308511  0.270026  0.247566\n10      0.299765   0.29814   0.29442  0.265845  0.242922",
      "text/html": "<div>\n<style scoped>\n    .dataframe tbody tr th:only-of-type {\n        vertical-align: middle;\n    }\n\n    .dataframe tbody tr th {\n        vertical-align: top;\n    }\n\n    .dataframe thead tr th {\n        text-align: left;\n    }\n\n    .dataframe thead tr:last-of-type th {\n        text-align: right;\n    }\n</style>\n<table border=\"1\" class=\"dataframe\">\n  <thead>\n    <tr>\n      <th></th>\n      <th colspan=\"5\" halign=\"left\">Sigma</th>\n    </tr>\n    <tr>\n      <th>Tenor</th>\n      <th>1</th>\n      <th>2</th>\n      <th>3</th>\n      <th>5</th>\n      <th>10</th>\n    </tr>\n    <tr>\n      <th>Expiry</th>\n      <th></th>\n      <th></th>\n      <th></th>\n      <th></th>\n      <th></th>\n    </tr>\n  </thead>\n  <tbody>\n    <tr>\n      <th>1</th>\n      <td>0.403533</td>\n      <td>0.36408</td>\n      <td>0.333147</td>\n      <td>0.290906</td>\n      <td>0.252791</td>\n    </tr>\n    <tr>\n      <th>5</th>\n      <td>0.307549</td>\n      <td>0.313167</td>\n      <td>0.308511</td>\n      <td>0.270026</td>\n      <td>0.247566</td>\n    </tr>\n    <tr>\n      <th>10</th>\n      <td>0.299765</td>\n      <td>0.29814</td>\n      <td>0.29442</td>\n      <td>0.265845</td>\n      <td>0.242922</td>\n    </tr>\n  </tbody>\n</table>\n</div>"
     },
     "execution_count": 20,
     "metadata": {},
     "output_type": "execute_result"
    }
   ],
   "source": [
    "DD_sigma.pivot(columns=[\"Tenor\"],values=[\"Sigma\"],index=[\"Expiry\"])"
   ]
  },
  {
   "cell_type": "code",
   "execution_count": 21,
   "id": "ac79e20b",
   "metadata": {},
   "outputs": [
    {
     "name": "stderr",
     "output_type": "stream",
     "text": [
      "/home/vp/Downloads/venv/lib/python3.10/site-packages/pandas/core/algorithms.py:794: FutureWarning: In a future version, the Index constructor will not infer numeric dtypes when passed object-dtype sequences (matching Series behavior)\n",
      "  uniques = Index(uniques)\n"
     ]
    },
    {
     "data": {
      "text/plain": "            Beta                                        \nTenor         1         2         3         5         10\nExpiry                                                  \n1       0.199527  0.199186  0.199027  0.199487  0.200042\n5        0.19851  0.198085  0.365238  0.345473  0.339199\n10      0.693301  0.254392  0.236005  0.306846  0.263825",
      "text/html": "<div>\n<style scoped>\n    .dataframe tbody tr th:only-of-type {\n        vertical-align: middle;\n    }\n\n    .dataframe tbody tr th {\n        vertical-align: top;\n    }\n\n    .dataframe thead tr th {\n        text-align: left;\n    }\n\n    .dataframe thead tr:last-of-type th {\n        text-align: right;\n    }\n</style>\n<table border=\"1\" class=\"dataframe\">\n  <thead>\n    <tr>\n      <th></th>\n      <th colspan=\"5\" halign=\"left\">Beta</th>\n    </tr>\n    <tr>\n      <th>Tenor</th>\n      <th>1</th>\n      <th>2</th>\n      <th>3</th>\n      <th>5</th>\n      <th>10</th>\n    </tr>\n    <tr>\n      <th>Expiry</th>\n      <th></th>\n      <th></th>\n      <th></th>\n      <th></th>\n      <th></th>\n    </tr>\n  </thead>\n  <tbody>\n    <tr>\n      <th>1</th>\n      <td>0.199527</td>\n      <td>0.199186</td>\n      <td>0.199027</td>\n      <td>0.199487</td>\n      <td>0.200042</td>\n    </tr>\n    <tr>\n      <th>5</th>\n      <td>0.19851</td>\n      <td>0.198085</td>\n      <td>0.365238</td>\n      <td>0.345473</td>\n      <td>0.339199</td>\n    </tr>\n    <tr>\n      <th>10</th>\n      <td>0.693301</td>\n      <td>0.254392</td>\n      <td>0.236005</td>\n      <td>0.306846</td>\n      <td>0.263825</td>\n    </tr>\n  </tbody>\n</table>\n</div>"
     },
     "execution_count": 21,
     "metadata": {},
     "output_type": "execute_result"
    }
   ],
   "source": [
    "DD_beta.pivot(columns=[\"Tenor\"],values=[\"Beta\"],index=[\"Expiry\"])"
   ]
  },
  {
   "cell_type": "markdown",
   "id": "8b200271",
   "metadata": {},
   "source": [
    "# SABR Calibration"
   ]
  },
  {
   "cell_type": "code",
   "execution_count": 22,
   "id": "2be3fce6",
   "metadata": {},
   "outputs": [],
   "source": [
    "def SABR(F, K, T, alpha, beta, rho, nu):\n",
    "    X = K\n",
    "    if abs(F - K) < 1e-12:\n",
    "        numer1 = (((1 - beta)**2)/24)*alpha*alpha/(F**(2 - 2*beta))\n",
    "        numer2 = 0.25*rho*beta*nu*alpha/(F**(1 - beta))\n",
    "        numer3 = ((2 - 3*rho*rho)/24)*nu*nu\n",
    "        VolAtm = alpha*(1 + (numer1 + numer2 + numer3)*T)/(F**(1-beta))\n",
    "        sabrsigma = VolAtm\n",
    "    else:\n",
    "        z = (nu/alpha)*((F*X)**(0.5*(1-beta)))*np.log(F/X)\n",
    "        zhi = np.log((((1 - 2*rho*z + z*z)**0.5) + z - rho)/(1 - rho))\n",
    "        numer1 = (((1 - beta)**2)/24)*((alpha*alpha)/((F*X)**(1 - beta)))\n",
    "        numer2 = 0.25*rho*beta*nu*alpha/((F*X)**((1 - beta)/2))\n",
    "        numer3 = ((2 - 3*rho*rho)/24)*nu*nu\n",
    "        numer = alpha*(1 + (numer1 + numer2 + numer3)*T)*z\n",
    "        denom1 = ((1 - beta)**2/24)*(np.log(F/X))**2\n",
    "        denom2 = (((1 - beta)**4)/1920)*((np.log(F/X))**4)\n",
    "        denom = ((F*X)**((1 - beta)/2))*(1 + denom1 + denom2)*zhi\n",
    "        sabrsigma = numer/denom\n",
    "    return sabrsigma\n"
   ]
  },
  {
   "cell_type": "code",
   "execution_count": 23,
   "id": "f1b76c87",
   "metadata": {},
   "outputs": [],
   "source": [
    "def sabr_calibration(x, strikes, vols, F, T):\n",
    "    err = 0.0\n",
    "    for i, vol in enumerate(vols):\n",
    "        err += (vol - SABR(F, strikes[i], T,\n",
    "                           x[0], 0.9, x[1], x[2]))**2\n",
    "    return err"
   ]
  },
  {
   "cell_type": "code",
   "execution_count": 24,
   "id": "0b1a6b1a",
   "metadata": {},
   "outputs": [],
   "source": [
    "SABR_alpha=pd.DataFrame(index=IVs.index,columns=[\"Expiry\",\"Tenor\",\"Alpha\"])\n",
    "SABR_rho=pd.DataFrame(index=IVs.index,columns=[\"Expiry\",\"Tenor\",\"Rho\"])\n",
    "SABR_nu=pd.DataFrame(index=IVs.index,columns=[\"Expiry\",\"Tenor\",\"Nu\"])\n",
    "\n",
    "\n",
    "\n",
    "\n",
    "for i in IVs.index:\n",
    "    \n",
    "    res=least_squares(lambda x: sabr_calibration(x,\n",
    "                                           strikes.iloc[i,2:],\n",
    "                                           IVs.iloc[i,2:],\n",
    "                                           frwd_swaprate.iloc[i,3],\n",
    "                                           IVs.loc[i,\"Expiry\"]),\n",
    "                          [0.1,-0.5,0.5],\n",
    "                          bounds=([0,-1,0],[np.inf,1,np.inf]))\n",
    "    SABR_alpha.iloc[i,:]=[IVs.iloc[i,0],IVs.iloc[i,1],res.x[0]]\n",
    "    SABR_rho.iloc[i,:]=[IVs.iloc[i,0],IVs.iloc[i,1],res.x[1]]\n",
    "    SABR_nu.iloc[i,:]=[IVs.iloc[i,0],IVs.iloc[i,1],res.x[2]]\n",
    "\n"
   ]
  },
  {
   "cell_type": "code",
   "execution_count": 25,
   "id": "7b044a8c",
   "metadata": {},
   "outputs": [
    {
     "name": "stderr",
     "output_type": "stream",
     "text": [
      "/home/vp/Downloads/venv/lib/python3.10/site-packages/pandas/core/algorithms.py:794: FutureWarning: In a future version, the Index constructor will not infer numeric dtypes when passed object-dtype sequences (matching Series behavior)\n",
      "  uniques = Index(uniques)\n"
     ]
    },
    {
     "data": {
      "text/plain": "           Alpha                                        \nTenor         1         2         3         5         10\nExpiry                                                  \n1        0.13907   0.18467  0.196865  0.178058  0.170885\n5       0.166565  0.199577  0.210419  0.191207  0.176905\n10      0.177864  0.195343  0.207011  0.201826    0.1801",
      "text/html": "<div>\n<style scoped>\n    .dataframe tbody tr th:only-of-type {\n        vertical-align: middle;\n    }\n\n    .dataframe tbody tr th {\n        vertical-align: top;\n    }\n\n    .dataframe thead tr th {\n        text-align: left;\n    }\n\n    .dataframe thead tr:last-of-type th {\n        text-align: right;\n    }\n</style>\n<table border=\"1\" class=\"dataframe\">\n  <thead>\n    <tr>\n      <th></th>\n      <th colspan=\"5\" halign=\"left\">Alpha</th>\n    </tr>\n    <tr>\n      <th>Tenor</th>\n      <th>1</th>\n      <th>2</th>\n      <th>3</th>\n      <th>5</th>\n      <th>10</th>\n    </tr>\n    <tr>\n      <th>Expiry</th>\n      <th></th>\n      <th></th>\n      <th></th>\n      <th></th>\n      <th></th>\n    </tr>\n  </thead>\n  <tbody>\n    <tr>\n      <th>1</th>\n      <td>0.13907</td>\n      <td>0.18467</td>\n      <td>0.196865</td>\n      <td>0.178058</td>\n      <td>0.170885</td>\n    </tr>\n    <tr>\n      <th>5</th>\n      <td>0.166565</td>\n      <td>0.199577</td>\n      <td>0.210419</td>\n      <td>0.191207</td>\n      <td>0.176905</td>\n    </tr>\n    <tr>\n      <th>10</th>\n      <td>0.177864</td>\n      <td>0.195343</td>\n      <td>0.207011</td>\n      <td>0.201826</td>\n      <td>0.1801</td>\n    </tr>\n  </tbody>\n</table>\n</div>"
     },
     "execution_count": 25,
     "metadata": {},
     "output_type": "execute_result"
    }
   ],
   "source": [
    "SABR_alpha.pivot(columns=[\"Tenor\"],values=[\"Alpha\"],index=[\"Expiry\"])"
   ]
  },
  {
   "cell_type": "code",
   "execution_count": 26,
   "id": "57f548a1",
   "metadata": {},
   "outputs": [
    {
     "name": "stderr",
     "output_type": "stream",
     "text": [
      "/home/vp/Downloads/venv/lib/python3.10/site-packages/pandas/core/algorithms.py:794: FutureWarning: In a future version, the Index constructor will not infer numeric dtypes when passed object-dtype sequences (matching Series behavior)\n",
      "  uniques = Index(uniques)\n"
     ]
    },
    {
     "data": {
      "text/plain": "             Rho                                        \nTenor         1         2         3         5         10\nExpiry                                                  \n1      -0.632628 -0.524618 -0.482388 -0.413979 -0.264429\n5      -0.584666 -0.546609 -0.549566 -0.511825 -0.435195\n10      -0.54616  -0.54409  -0.54984 -0.563144  -0.50674",
      "text/html": "<div>\n<style scoped>\n    .dataframe tbody tr th:only-of-type {\n        vertical-align: middle;\n    }\n\n    .dataframe tbody tr th {\n        vertical-align: top;\n    }\n\n    .dataframe thead tr th {\n        text-align: left;\n    }\n\n    .dataframe thead tr:last-of-type th {\n        text-align: right;\n    }\n</style>\n<table border=\"1\" class=\"dataframe\">\n  <thead>\n    <tr>\n      <th></th>\n      <th colspan=\"5\" halign=\"left\">Rho</th>\n    </tr>\n    <tr>\n      <th>Tenor</th>\n      <th>1</th>\n      <th>2</th>\n      <th>3</th>\n      <th>5</th>\n      <th>10</th>\n    </tr>\n    <tr>\n      <th>Expiry</th>\n      <th></th>\n      <th></th>\n      <th></th>\n      <th></th>\n      <th></th>\n    </tr>\n  </thead>\n  <tbody>\n    <tr>\n      <th>1</th>\n      <td>-0.632628</td>\n      <td>-0.524618</td>\n      <td>-0.482388</td>\n      <td>-0.413979</td>\n      <td>-0.264429</td>\n    </tr>\n    <tr>\n      <th>5</th>\n      <td>-0.584666</td>\n      <td>-0.546609</td>\n      <td>-0.549566</td>\n      <td>-0.511825</td>\n      <td>-0.435195</td>\n    </tr>\n    <tr>\n      <th>10</th>\n      <td>-0.54616</td>\n      <td>-0.54409</td>\n      <td>-0.54984</td>\n      <td>-0.563144</td>\n      <td>-0.50674</td>\n    </tr>\n  </tbody>\n</table>\n</div>"
     },
     "execution_count": 26,
     "metadata": {},
     "output_type": "execute_result"
    }
   ],
   "source": [
    "SABR_rho.pivot(columns=[\"Tenor\"],values=[\"Rho\"],index=[\"Expiry\"])"
   ]
  },
  {
   "cell_type": "code",
   "execution_count": 27,
   "id": "55eb6f0b",
   "metadata": {},
   "outputs": [
    {
     "name": "stderr",
     "output_type": "stream",
     "text": [
      "/home/vp/Downloads/venv/lib/python3.10/site-packages/pandas/core/algorithms.py:794: FutureWarning: In a future version, the Index constructor will not infer numeric dtypes when passed object-dtype sequences (matching Series behavior)\n",
      "  uniques = Index(uniques)\n"
     ]
    },
    {
     "data": {
      "text/plain": "              Nu                                        \nTenor         1         2         3         5         10\nExpiry                                                  \n1       2.044468  1.673683  1.434889   1.06221  0.778427\n5       1.336231  1.059156  0.933945  0.668863  0.495281\n10      1.005595  0.923107  0.866072  0.717836  0.578153",
      "text/html": "<div>\n<style scoped>\n    .dataframe tbody tr th:only-of-type {\n        vertical-align: middle;\n    }\n\n    .dataframe tbody tr th {\n        vertical-align: top;\n    }\n\n    .dataframe thead tr th {\n        text-align: left;\n    }\n\n    .dataframe thead tr:last-of-type th {\n        text-align: right;\n    }\n</style>\n<table border=\"1\" class=\"dataframe\">\n  <thead>\n    <tr>\n      <th></th>\n      <th colspan=\"5\" halign=\"left\">Nu</th>\n    </tr>\n    <tr>\n      <th>Tenor</th>\n      <th>1</th>\n      <th>2</th>\n      <th>3</th>\n      <th>5</th>\n      <th>10</th>\n    </tr>\n    <tr>\n      <th>Expiry</th>\n      <th></th>\n      <th></th>\n      <th></th>\n      <th></th>\n      <th></th>\n    </tr>\n  </thead>\n  <tbody>\n    <tr>\n      <th>1</th>\n      <td>2.044468</td>\n      <td>1.673683</td>\n      <td>1.434889</td>\n      <td>1.06221</td>\n      <td>0.778427</td>\n    </tr>\n    <tr>\n      <th>5</th>\n      <td>1.336231</td>\n      <td>1.059156</td>\n      <td>0.933945</td>\n      <td>0.668863</td>\n      <td>0.495281</td>\n    </tr>\n    <tr>\n      <th>10</th>\n      <td>1.005595</td>\n      <td>0.923107</td>\n      <td>0.866072</td>\n      <td>0.717836</td>\n      <td>0.578153</td>\n    </tr>\n  </tbody>\n</table>\n</div>"
     },
     "execution_count": 27,
     "metadata": {},
     "output_type": "execute_result"
    }
   ],
   "source": [
    "SABR_nu.pivot(columns=[\"Tenor\"],values=[\"Nu\"],index=[\"Expiry\"])"
   ]
  },
  {
   "cell_type": "code",
   "execution_count": 28,
   "outputs": [
    {
     "name": "stderr",
     "output_type": "stream",
     "text": [
      "/home/vp/Downloads/venv/lib/python3.10/site-packages/pandas/core/algorithms.py:794: FutureWarning: In a future version, the Index constructor will not infer numeric dtypes when passed object-dtype sequences (matching Series behavior)\n",
      "  uniques = Index(uniques)\n"
     ]
    }
   ],
   "source": [
    "SABR_alpha.pivot(columns=[\"Tenor\"],values=[\"Alpha\"],index=[\"Expiry\"]).to_csv(\"SABR_Alpha.csv\")"
   ],
   "metadata": {
    "collapsed": false,
    "pycharm": {
     "name": "#%%\n"
    }
   }
  },
  {
   "cell_type": "code",
   "execution_count": 29,
   "outputs": [
    {
     "name": "stderr",
     "output_type": "stream",
     "text": [
      "/home/vp/Downloads/venv/lib/python3.10/site-packages/pandas/core/algorithms.py:794: FutureWarning: In a future version, the Index constructor will not infer numeric dtypes when passed object-dtype sequences (matching Series behavior)\n",
      "  uniques = Index(uniques)\n"
     ]
    }
   ],
   "source": [
    "SABR_rho.pivot(columns=[\"Tenor\"],values=[\"Rho\"],index=[\"Expiry\"]).to_csv(\"SABR_Rho.csv\")"
   ],
   "metadata": {
    "collapsed": false,
    "pycharm": {
     "name": "#%%\n"
    }
   }
  },
  {
   "cell_type": "code",
   "execution_count": 30,
   "outputs": [
    {
     "name": "stderr",
     "output_type": "stream",
     "text": [
      "/home/vp/Downloads/venv/lib/python3.10/site-packages/pandas/core/algorithms.py:794: FutureWarning: In a future version, the Index constructor will not infer numeric dtypes when passed object-dtype sequences (matching Series behavior)\n",
      "  uniques = Index(uniques)\n"
     ]
    }
   ],
   "source": [
    "SABR_nu.pivot(columns=[\"Tenor\"],values=[\"Nu\"],index=[\"Expiry\"]).to_csv(\"SABR_Nu.csv\")"
   ],
   "metadata": {
    "collapsed": false,
    "pycharm": {
     "name": "#%%\n"
    }
   }
  },
  {
   "cell_type": "markdown",
   "id": "acd970fe",
   "metadata": {},
   "source": [
    "# Payer Swaption 2y × 10y "
   ]
  },
  {
   "cell_type": "code",
   "execution_count": 31,
   "id": "b7d37c82",
   "metadata": {},
   "outputs": [],
   "source": [
    "ks=np.arange(0.01,0.09,0.01) #The strikes for pricing"
   ]
  },
  {
   "cell_type": "code",
   "execution_count": 32,
   "id": "99477912",
   "metadata": {},
   "outputs": [
    {
     "data": {
      "text/plain": "array([0.01, 0.02, 0.03, 0.04, 0.05, 0.06, 0.07, 0.08])"
     },
     "execution_count": 32,
     "metadata": {},
     "output_type": "execute_result"
    }
   ],
   "source": [
    "ks"
   ]
  },
  {
   "cell_type": "code",
   "execution_count": 33,
   "id": "7ced5351",
   "metadata": {},
   "outputs": [],
   "source": [
    "#Forward rate today, for a collateralized market:\n",
    "\n",
    "S_0=sum(rates[(rates[\"Tenor (year)\"]>2.0)& (rates[\"Tenor (year)\"]<=12.0)].reset_index()[\"OIS Discount Factor\"]*\n",
    "    rates[(rates[\"Tenor (year)\"]>=2.0)& (rates[\"Tenor (year)\"]<12.0)].reset_index()[\"Forward LIBOR\"]*0.5)/PVBP(2,10)"
   ]
  },
  {
   "cell_type": "code",
   "execution_count": 34,
   "id": "140076d0",
   "metadata": {},
   "outputs": [
    {
     "data": {
      "text/plain": "0.038921965824554754"
     },
     "execution_count": 34,
     "metadata": {},
     "output_type": "execute_result"
    }
   ],
   "source": [
    "S_0"
   ]
  },
  {
   "cell_type": "markdown",
   "id": "25ddb86e",
   "metadata": {},
   "source": [
    "## DD"
   ]
  },
  {
   "cell_type": "code",
   "execution_count": 35,
   "id": "aec6dd72",
   "metadata": {},
   "outputs": [],
   "source": [
    "from scipy import interpolate"
   ]
  },
  {
   "cell_type": "code",
   "execution_count": 36,
   "id": "6d2befae",
   "metadata": {},
   "outputs": [
    {
     "name": "stderr",
     "output_type": "stream",
     "text": [
      "/home/vp/Downloads/venv/lib/python3.10/site-packages/pandas/core/algorithms.py:794: FutureWarning: In a future version, the Index constructor will not infer numeric dtypes when passed object-dtype sequences (matching Series behavior)\n",
      "  uniques = Index(uniques)\n",
      "/home/vp/Downloads/venv/lib/python3.10/site-packages/pandas/core/algorithms.py:794: FutureWarning: In a future version, the Index constructor will not infer numeric dtypes when passed object-dtype sequences (matching Series behavior)\n",
      "  uniques = Index(uniques)\n"
     ]
    }
   ],
   "source": [
    "DD_sigma=DD_sigma.pivot(columns=[\"Tenor\"],values=[\"Sigma\"],index=[\"Expiry\"])\n",
    "DD_beta=DD_beta.pivot(columns=[\"Tenor\"],values=[\"Beta\"],index=[\"Expiry\"])"
   ]
  },
  {
   "cell_type": "code",
   "execution_count": 37,
   "id": "53ee3d1f",
   "metadata": {},
   "outputs": [],
   "source": [
    "#Finding the interpolated values of the DD paramters\n",
    "\n",
    "DD_sigma_interp=interpolate.interp1d([1,5],[DD_sigma.iloc[0,4],DD_sigma.iloc[1,4]] )(2)\n",
    "DD_beta_interp=interpolate.interp1d([1,5],[DD_beta.iloc[0,4],DD_beta.iloc[1,4]] )(2)\n"
   ]
  },
  {
   "cell_type": "code",
   "execution_count": 38,
   "id": "cbf3f2bb",
   "metadata": {},
   "outputs": [],
   "source": [
    "DD_Prices=[Displaced_Diffusion(S_0, i, 2, DD_sigma_interp, DD_beta_interp,2,10) for i in ks]"
   ]
  },
  {
   "cell_type": "code",
   "execution_count": 39,
   "id": "3234d9f9",
   "metadata": {},
   "outputs": [],
   "source": [
    "DD_Prices_Frame=pd.DataFrame(DD_Prices,index=ks)\n",
    "DD_Prices_Frame.index.name=\"Strike\"\n",
    "DD_Prices_Frame.columns=[\"Price\"]"
   ]
  },
  {
   "cell_type": "code",
   "execution_count": 40,
   "id": "346be242",
   "metadata": {},
   "outputs": [
    {
     "data": {
      "text/plain": "           Price\nStrike          \n0.01    0.280981\n0.02    0.187665\n0.03    0.106403\n0.04    0.048657\n0.05    0.017419\n0.06    0.004852\n0.07    0.001062\n0.08    0.000186",
      "text/html": "<div>\n<style scoped>\n    .dataframe tbody tr th:only-of-type {\n        vertical-align: middle;\n    }\n\n    .dataframe tbody tr th {\n        vertical-align: top;\n    }\n\n    .dataframe thead th {\n        text-align: right;\n    }\n</style>\n<table border=\"1\" class=\"dataframe\">\n  <thead>\n    <tr style=\"text-align: right;\">\n      <th></th>\n      <th>Price</th>\n    </tr>\n    <tr>\n      <th>Strike</th>\n      <th></th>\n    </tr>\n  </thead>\n  <tbody>\n    <tr>\n      <th>0.01</th>\n      <td>0.280981</td>\n    </tr>\n    <tr>\n      <th>0.02</th>\n      <td>0.187665</td>\n    </tr>\n    <tr>\n      <th>0.03</th>\n      <td>0.106403</td>\n    </tr>\n    <tr>\n      <th>0.04</th>\n      <td>0.048657</td>\n    </tr>\n    <tr>\n      <th>0.05</th>\n      <td>0.017419</td>\n    </tr>\n    <tr>\n      <th>0.06</th>\n      <td>0.004852</td>\n    </tr>\n    <tr>\n      <th>0.07</th>\n      <td>0.001062</td>\n    </tr>\n    <tr>\n      <th>0.08</th>\n      <td>0.000186</td>\n    </tr>\n  </tbody>\n</table>\n</div>"
     },
     "execution_count": 40,
     "metadata": {},
     "output_type": "execute_result"
    }
   ],
   "source": [
    "DD_Prices_Frame"
   ]
  },
  {
   "cell_type": "markdown",
   "id": "a694f8d8",
   "metadata": {},
   "source": [
    "## SABR"
   ]
  },
  {
   "cell_type": "code",
   "execution_count": 41,
   "id": "462250e6",
   "metadata": {},
   "outputs": [
    {
     "name": "stderr",
     "output_type": "stream",
     "text": [
      "/home/vp/Downloads/venv/lib/python3.10/site-packages/pandas/core/algorithms.py:794: FutureWarning: In a future version, the Index constructor will not infer numeric dtypes when passed object-dtype sequences (matching Series behavior)\n",
      "  uniques = Index(uniques)\n",
      "/home/vp/Downloads/venv/lib/python3.10/site-packages/pandas/core/algorithms.py:794: FutureWarning: In a future version, the Index constructor will not infer numeric dtypes when passed object-dtype sequences (matching Series behavior)\n",
      "  uniques = Index(uniques)\n",
      "/home/vp/Downloads/venv/lib/python3.10/site-packages/pandas/core/algorithms.py:794: FutureWarning: In a future version, the Index constructor will not infer numeric dtypes when passed object-dtype sequences (matching Series behavior)\n",
      "  uniques = Index(uniques)\n"
     ]
    }
   ],
   "source": [
    "SABR_alpha=SABR_alpha.pivot(columns=[\"Tenor\"],values=[\"Alpha\"],index=[\"Expiry\"])\n",
    "SABR_rho=SABR_rho.pivot(columns=[\"Tenor\"],values=[\"Rho\"],index=[\"Expiry\"])\n",
    "SABR_nu=SABR_nu.pivot(columns=[\"Tenor\"],values=[\"Nu\"],index=[\"Expiry\"])"
   ]
  },
  {
   "cell_type": "code",
   "execution_count": 42,
   "id": "bd02f9b8",
   "metadata": {},
   "outputs": [],
   "source": [
    "SABR_alpha_interp=interpolate.interp1d([1,5],[SABR_alpha.iloc[0,4],SABR_alpha.iloc[1,4]] )(2)\n",
    "SABR_rho_interp=interpolate.interp1d([1,5],[SABR_rho.iloc[0,4],SABR_rho.iloc[1,4]] )(2)\n",
    "SABR_nu_interp=interpolate.interp1d([1,5],[SABR_nu.iloc[0,4],SABR_nu.iloc[1,4]] )(2)\n"
   ]
  },
  {
   "cell_type": "code",
   "execution_count": 43,
   "id": "9478fb9f",
   "metadata": {},
   "outputs": [],
   "source": [
    "SABR_prices=[Black76Lognormal(S_0,i,2,SABR(S_0, i, 2, SABR_alpha_interp, 0.9, SABR_rho_interp, SABR_nu_interp\n",
    "                                          ),2,10) for i in ks]"
   ]
  },
  {
   "cell_type": "code",
   "execution_count": 44,
   "id": "45111d0f",
   "metadata": {},
   "outputs": [
    {
     "data": {
      "text/plain": "[0.282725596352163,\n 0.19158350783088895,\n 0.10907945219740559,\n 0.047966259694047,\n 0.019552510779955568,\n 0.00995262762149001,\n 0.00620259176890757,\n 0.00437988762155549]"
     },
     "execution_count": 44,
     "metadata": {},
     "output_type": "execute_result"
    }
   ],
   "source": [
    "SABR_prices"
   ]
  },
  {
   "cell_type": "code",
   "execution_count": 45,
   "id": "fbe4d338",
   "metadata": {},
   "outputs": [],
   "source": [
    "SABR_Prices_Frame=pd.DataFrame(SABR_prices,index=ks)\n",
    "SABR_Prices_Frame.index.name=\"Strike\"\n",
    "SABR_Prices_Frame.columns=[\"Price\"]"
   ]
  },
  {
   "cell_type": "code",
   "execution_count": 46,
   "id": "e807dd2a",
   "metadata": {},
   "outputs": [
    {
     "data": {
      "text/plain": "           Price\nStrike          \n0.01    0.282726\n0.02    0.191584\n0.03    0.109079\n0.04    0.047966\n0.05    0.019553\n0.06    0.009953\n0.07    0.006203\n0.08    0.004380",
      "text/html": "<div>\n<style scoped>\n    .dataframe tbody tr th:only-of-type {\n        vertical-align: middle;\n    }\n\n    .dataframe tbody tr th {\n        vertical-align: top;\n    }\n\n    .dataframe thead th {\n        text-align: right;\n    }\n</style>\n<table border=\"1\" class=\"dataframe\">\n  <thead>\n    <tr style=\"text-align: right;\">\n      <th></th>\n      <th>Price</th>\n    </tr>\n    <tr>\n      <th>Strike</th>\n      <th></th>\n    </tr>\n  </thead>\n  <tbody>\n    <tr>\n      <th>0.01</th>\n      <td>0.282726</td>\n    </tr>\n    <tr>\n      <th>0.02</th>\n      <td>0.191584</td>\n    </tr>\n    <tr>\n      <th>0.03</th>\n      <td>0.109079</td>\n    </tr>\n    <tr>\n      <th>0.04</th>\n      <td>0.047966</td>\n    </tr>\n    <tr>\n      <th>0.05</th>\n      <td>0.019553</td>\n    </tr>\n    <tr>\n      <th>0.06</th>\n      <td>0.009953</td>\n    </tr>\n    <tr>\n      <th>0.07</th>\n      <td>0.006203</td>\n    </tr>\n    <tr>\n      <th>0.08</th>\n      <td>0.004380</td>\n    </tr>\n  </tbody>\n</table>\n</div>"
     },
     "execution_count": 46,
     "metadata": {},
     "output_type": "execute_result"
    }
   ],
   "source": [
    "SABR_Prices_Frame"
   ]
  },
  {
   "cell_type": "markdown",
   "id": "6378c998",
   "metadata": {},
   "source": [
    "# Receiver Swaption 8y × 10y"
   ]
  },
  {
   "cell_type": "code",
   "execution_count": 47,
   "id": "4d5a8ae3",
   "metadata": {},
   "outputs": [],
   "source": [
    "def Black76Lognormal_Rec(F,K,T,sigma,exp,tenor):\n",
    "    d1 = (np.log(F/K)+(sigma*sigma/2)*T)/(sigma*np.sqrt(T))\n",
    "    d2 = d1-sigma*np.sqrt(T)\n",
    "    return -F*PVBP(exp,tenor)*norm.cdf(-d1) + K*PVBP(exp,tenor)*norm.cdf(-d2)\n",
    "\n",
    "def Displaced_Diffusion_Rec(F, K, T, sigma, beta,exp,tenor):\n",
    "    return Black76Lognormal_Rec(F/beta, K+(1-beta)/beta*F, T,sigma*beta,exp,tenor)"
   ]
  },
  {
   "cell_type": "code",
   "execution_count": 48,
   "id": "b815a299",
   "metadata": {},
   "outputs": [],
   "source": [
    "S_0=S_0=sum(rates[(rates[\"Tenor (year)\"]>8.0)& (rates[\"Tenor (year)\"]<=18.0)].reset_index()[\"OIS Discount Factor\"]*\n",
    "    rates[(rates[\"Tenor (year)\"]>=8.0)& (rates[\"Tenor (year)\"]<18.0)].reset_index()[\"Forward LIBOR\"]*0.5)/PVBP(8,10)"
   ]
  },
  {
   "cell_type": "code",
   "execution_count": 49,
   "id": "68acb130",
   "metadata": {},
   "outputs": [
    {
     "data": {
      "text/plain": "0.047533569736034766"
     },
     "execution_count": 49,
     "metadata": {},
     "output_type": "execute_result"
    }
   ],
   "source": [
    "S_0"
   ]
  },
  {
   "cell_type": "markdown",
   "id": "92e411cc",
   "metadata": {},
   "source": [
    "## DD"
   ]
  },
  {
   "cell_type": "code",
   "execution_count": 50,
   "id": "c6e0506c",
   "metadata": {},
   "outputs": [],
   "source": [
    "DD_sigma_interp=interpolate.interp1d([5,10],[DD_sigma.iloc[1,4],DD_sigma.iloc[2,4]] )(8)\n",
    "DD_beta_interp=interpolate.interp1d([5,10],[DD_beta.iloc[1,4],DD_beta.iloc[2,4]] )(8)\n"
   ]
  },
  {
   "cell_type": "code",
   "execution_count": 51,
   "id": "cef2e7c9",
   "metadata": {},
   "outputs": [],
   "source": [
    "DD_Prices=[Displaced_Diffusion_Rec(S_0, i, 8, DD_sigma_interp, DD_beta_interp,8,10) for i in ks]"
   ]
  },
  {
   "cell_type": "code",
   "execution_count": 52,
   "id": "9174b9bb",
   "metadata": {},
   "outputs": [
    {
     "data": {
      "text/plain": "[0.012324697685209315,\n 0.02726321700020365,\n 0.05194486456504943,\n 0.08797546380377574,\n 0.13572569406479518,\n 0.19443481782393024,\n 0.26258124754878454,\n 0.3383146175375069]"
     },
     "execution_count": 52,
     "metadata": {},
     "output_type": "execute_result"
    }
   ],
   "source": [
    "DD_Prices"
   ]
  },
  {
   "cell_type": "code",
   "execution_count": 53,
   "id": "471b834e",
   "metadata": {},
   "outputs": [],
   "source": [
    "DD_Prices_Frame=pd.DataFrame(DD_Prices,index=ks)\n",
    "DD_Prices_Frame.index.name=\"Strike\"\n",
    "DD_Prices_Frame.columns=[\"Price\"]"
   ]
  },
  {
   "cell_type": "code",
   "execution_count": 54,
   "id": "1659850c",
   "metadata": {},
   "outputs": [
    {
     "data": {
      "text/plain": "           Price\nStrike          \n0.01    0.012325\n0.02    0.027263\n0.03    0.051945\n0.04    0.087975\n0.05    0.135726\n0.06    0.194435\n0.07    0.262581\n0.08    0.338315",
      "text/html": "<div>\n<style scoped>\n    .dataframe tbody tr th:only-of-type {\n        vertical-align: middle;\n    }\n\n    .dataframe tbody tr th {\n        vertical-align: top;\n    }\n\n    .dataframe thead th {\n        text-align: right;\n    }\n</style>\n<table border=\"1\" class=\"dataframe\">\n  <thead>\n    <tr style=\"text-align: right;\">\n      <th></th>\n      <th>Price</th>\n    </tr>\n    <tr>\n      <th>Strike</th>\n      <th></th>\n    </tr>\n  </thead>\n  <tbody>\n    <tr>\n      <th>0.01</th>\n      <td>0.012325</td>\n    </tr>\n    <tr>\n      <th>0.02</th>\n      <td>0.027263</td>\n    </tr>\n    <tr>\n      <th>0.03</th>\n      <td>0.051945</td>\n    </tr>\n    <tr>\n      <th>0.04</th>\n      <td>0.087975</td>\n    </tr>\n    <tr>\n      <th>0.05</th>\n      <td>0.135726</td>\n    </tr>\n    <tr>\n      <th>0.06</th>\n      <td>0.194435</td>\n    </tr>\n    <tr>\n      <th>0.07</th>\n      <td>0.262581</td>\n    </tr>\n    <tr>\n      <th>0.08</th>\n      <td>0.338315</td>\n    </tr>\n  </tbody>\n</table>\n</div>"
     },
     "execution_count": 54,
     "metadata": {},
     "output_type": "execute_result"
    }
   ],
   "source": [
    "DD_Prices_Frame"
   ]
  },
  {
   "cell_type": "markdown",
   "id": "c4548068",
   "metadata": {},
   "source": [
    "## SABR"
   ]
  },
  {
   "cell_type": "code",
   "execution_count": 55,
   "id": "f4d6fa87",
   "metadata": {},
   "outputs": [],
   "source": [
    "SABR_alpha_interp=interpolate.interp1d([5,10],[SABR_alpha.iloc[1,4],SABR_alpha.iloc[2,4]] )(8)\n",
    "SABR_rho_interp=interpolate.interp1d([5,10],[SABR_rho.iloc[1,4],SABR_rho.iloc[2,4]] )(8)\n",
    "SABR_nu_interp=interpolate.interp1d([5,10],[SABR_nu.iloc[1,4],SABR_nu.iloc[2,4]] )(8)"
   ]
  },
  {
   "cell_type": "code",
   "execution_count": 56,
   "id": "1260ed8f",
   "metadata": {},
   "outputs": [],
   "source": [
    "SABR_prices=[Black76Lognormal_Rec(S_0,i,8,SABR(S_0, i, 8, SABR_alpha_interp, 0.9, SABR_rho_interp, SABR_nu_interp\n",
    "                                          ),8,10) for i in ks]"
   ]
  },
  {
   "cell_type": "code",
   "execution_count": 57,
   "id": "dd7510ba",
   "metadata": {},
   "outputs": [
    {
     "data": {
      "text/plain": "[0.019246268894794128,\n 0.038540962718442956,\n 0.06156963741829678,\n 0.09149229888930614,\n 0.1332020527636567,\n 0.19136925629967533,\n 0.2646546582664178,\n 0.3471196648889908]"
     },
     "execution_count": 57,
     "metadata": {},
     "output_type": "execute_result"
    }
   ],
   "source": [
    "SABR_prices"
   ]
  },
  {
   "cell_type": "code",
   "execution_count": 58,
   "id": "e67f6953",
   "metadata": {},
   "outputs": [],
   "source": [
    "SABR_Prices_Frame=pd.DataFrame(SABR_prices,index=ks)\n",
    "SABR_Prices_Frame.index.name=\"Strike\"\n",
    "SABR_Prices_Frame.columns=[\"Price\"]"
   ]
  },
  {
   "cell_type": "code",
   "execution_count": 59,
   "id": "3b12d846",
   "metadata": {},
   "outputs": [
    {
     "data": {
      "text/plain": "           Price\nStrike          \n0.01    0.019246\n0.02    0.038541\n0.03    0.061570\n0.04    0.091492\n0.05    0.133202\n0.06    0.191369\n0.07    0.264655\n0.08    0.347120",
      "text/html": "<div>\n<style scoped>\n    .dataframe tbody tr th:only-of-type {\n        vertical-align: middle;\n    }\n\n    .dataframe tbody tr th {\n        vertical-align: top;\n    }\n\n    .dataframe thead th {\n        text-align: right;\n    }\n</style>\n<table border=\"1\" class=\"dataframe\">\n  <thead>\n    <tr style=\"text-align: right;\">\n      <th></th>\n      <th>Price</th>\n    </tr>\n    <tr>\n      <th>Strike</th>\n      <th></th>\n    </tr>\n  </thead>\n  <tbody>\n    <tr>\n      <th>0.01</th>\n      <td>0.019246</td>\n    </tr>\n    <tr>\n      <th>0.02</th>\n      <td>0.038541</td>\n    </tr>\n    <tr>\n      <th>0.03</th>\n      <td>0.061570</td>\n    </tr>\n    <tr>\n      <th>0.04</th>\n      <td>0.091492</td>\n    </tr>\n    <tr>\n      <th>0.05</th>\n      <td>0.133202</td>\n    </tr>\n    <tr>\n      <th>0.06</th>\n      <td>0.191369</td>\n    </tr>\n    <tr>\n      <th>0.07</th>\n      <td>0.264655</td>\n    </tr>\n    <tr>\n      <th>0.08</th>\n      <td>0.347120</td>\n    </tr>\n  </tbody>\n</table>\n</div>"
     },
     "execution_count": 59,
     "metadata": {},
     "output_type": "execute_result"
    }
   ],
   "source": [
    "SABR_Prices_Frame"
   ]
  },
  {
   "cell_type": "markdown",
   "id": "c2be4cf6",
   "metadata": {},
   "source": [
    "# Implied Vol Graphs"
   ]
  },
  {
   "cell_type": "code",
   "execution_count": 60,
   "id": "6ad68d74",
   "metadata": {},
   "outputs": [],
   "source": [
    "Expiry=np.array([\"1Y\",\"5Y\",\"10Y\"])\n",
    "Tenor=np.array([\"1Y\",\"2Y\",\"3Y\",\"5Y\",\"10Y\"])\n",
    "s=np.array([-200,-150,-100,-50,-25,0,25,50,100,150,200])"
   ]
  },
  {
   "cell_type": "code",
   "execution_count": 60,
   "id": "474d6a3c",
   "metadata": {},
   "outputs": [],
   "source": []
  },
  {
   "cell_type": "code",
   "execution_count": 61,
   "id": "0cd18044",
   "metadata": {},
   "outputs": [],
   "source": [
    "SABR_alpha.columns=[1,2,3,5,10]\n",
    "SABR_rho.columns=[1,2,3,5,10]\n",
    "SABR_nu.columns=[1,2,3,5,10]\n"
   ]
  },
  {
   "cell_type": "code",
   "execution_count": 62,
   "id": "14620d5d",
   "metadata": {},
   "outputs": [],
   "source": [
    "DD_sigma.columns=[1,2,3,5,10]\n",
    "DD_beta.columns=[1,2,3,5,10]\n"
   ]
  },
  {
   "cell_type": "code",
   "execution_count": 63,
   "id": "e5985c88",
   "metadata": {},
   "outputs": [
    {
     "data": {
      "text/plain": "(1, 11)"
     },
     "execution_count": 63,
     "metadata": {},
     "output_type": "execute_result"
    }
   ],
   "source": [
    "IVs[(IVs[\"Expiry\"]==1)&(IVs[\"Tenor\"]==1)].iloc[:,2:].values.shape"
   ]
  },
  {
   "cell_type": "code",
   "execution_count": 64,
   "id": "1b1a6c58",
   "metadata": {},
   "outputs": [],
   "source": [
    "def impliedVol(S, K, price, T, Beta,exp,tenor):\n",
    "    impliedVol = brentq(lambda x: price - \n",
    "                        Displaced_Diffusion(S, K,  T, 1,x, ),\n",
    "                        1e-6, 1)\n",
    "    return impliedVol"
   ]
  },
  {
   "cell_type": "code",
   "execution_count": 65,
   "id": "2986138d",
   "metadata": {
    "pycharm": {
     "name": "#%%\n"
    }
   },
   "outputs": [
    {
     "ename": "IndexError",
     "evalue": "index 5 is out of bounds for axis 0 with size 5",
     "output_type": "error",
     "traceback": [
      "\u001B[0;31m---------------------------------------------------------------------------\u001B[0m",
      "\u001B[0;31mIndexError\u001B[0m                                Traceback (most recent call last)",
      "\u001B[0;32m/tmp/ipykernel_35955/543793199.py\u001B[0m in \u001B[0;36m<module>\u001B[0;34m\u001B[0m\n\u001B[1;32m     11\u001B[0m                     ,'bo',label='Market Vol')\n\u001B[1;32m     12\u001B[0m         ax=plt.plot(strikes,\n\u001B[0;32m---> 13\u001B[0;31m                     [SABR(ATM,x,T,SABR_alpha.iloc[int(ex[:-1]),int(te[:-1])],0.9,SABR_rho.iloc[int(ex[:-1]),int(te[:-1])]\n\u001B[0m\u001B[1;32m     14\u001B[0m                           ,SABR_nu.iloc[int(ex[:-1]),int(te[:-1])]) for x in strikes],\n\u001B[1;32m     15\u001B[0m                     'k',label='SABR Vol')\n",
      "\u001B[0;32m/tmp/ipykernel_35955/543793199.py\u001B[0m in \u001B[0;36m<listcomp>\u001B[0;34m(.0)\u001B[0m\n\u001B[1;32m     11\u001B[0m                     ,'bo',label='Market Vol')\n\u001B[1;32m     12\u001B[0m         ax=plt.plot(strikes,\n\u001B[0;32m---> 13\u001B[0;31m                     [SABR(ATM,x,T,SABR_alpha.iloc[int(ex[:-1]),int(te[:-1])],0.9,SABR_rho.iloc[int(ex[:-1]),int(te[:-1])]\n\u001B[0m\u001B[1;32m     14\u001B[0m                           ,SABR_nu.iloc[int(ex[:-1]),int(te[:-1])]) for x in strikes],\n\u001B[1;32m     15\u001B[0m                     'k',label='SABR Vol')\n",
      "\u001B[0;32m~/Downloads/venv/lib/python3.10/site-packages/pandas/core/indexing.py\u001B[0m in \u001B[0;36m__getitem__\u001B[0;34m(self, key)\u001B[0m\n\u001B[1;32m    958\u001B[0m             \u001B[0mkey\u001B[0m \u001B[0;34m=\u001B[0m \u001B[0mtuple\u001B[0m\u001B[0;34m(\u001B[0m\u001B[0mcom\u001B[0m\u001B[0;34m.\u001B[0m\u001B[0mapply_if_callable\u001B[0m\u001B[0;34m(\u001B[0m\u001B[0mx\u001B[0m\u001B[0;34m,\u001B[0m \u001B[0mself\u001B[0m\u001B[0;34m.\u001B[0m\u001B[0mobj\u001B[0m\u001B[0;34m)\u001B[0m \u001B[0;32mfor\u001B[0m \u001B[0mx\u001B[0m \u001B[0;32min\u001B[0m \u001B[0mkey\u001B[0m\u001B[0;34m)\u001B[0m\u001B[0;34m\u001B[0m\u001B[0;34m\u001B[0m\u001B[0m\n\u001B[1;32m    959\u001B[0m             \u001B[0;32mif\u001B[0m \u001B[0mself\u001B[0m\u001B[0;34m.\u001B[0m\u001B[0m_is_scalar_access\u001B[0m\u001B[0;34m(\u001B[0m\u001B[0mkey\u001B[0m\u001B[0;34m)\u001B[0m\u001B[0;34m:\u001B[0m\u001B[0;34m\u001B[0m\u001B[0;34m\u001B[0m\u001B[0m\n\u001B[0;32m--> 960\u001B[0;31m                 \u001B[0;32mreturn\u001B[0m \u001B[0mself\u001B[0m\u001B[0;34m.\u001B[0m\u001B[0mobj\u001B[0m\u001B[0;34m.\u001B[0m\u001B[0m_get_value\u001B[0m\u001B[0;34m(\u001B[0m\u001B[0;34m*\u001B[0m\u001B[0mkey\u001B[0m\u001B[0;34m,\u001B[0m \u001B[0mtakeable\u001B[0m\u001B[0;34m=\u001B[0m\u001B[0mself\u001B[0m\u001B[0;34m.\u001B[0m\u001B[0m_takeable\u001B[0m\u001B[0;34m)\u001B[0m\u001B[0;34m\u001B[0m\u001B[0;34m\u001B[0m\u001B[0m\n\u001B[0m\u001B[1;32m    961\u001B[0m             \u001B[0;32mreturn\u001B[0m \u001B[0mself\u001B[0m\u001B[0;34m.\u001B[0m\u001B[0m_getitem_tuple\u001B[0m\u001B[0;34m(\u001B[0m\u001B[0mkey\u001B[0m\u001B[0;34m)\u001B[0m\u001B[0;34m\u001B[0m\u001B[0;34m\u001B[0m\u001B[0m\n\u001B[1;32m    962\u001B[0m         \u001B[0;32melse\u001B[0m\u001B[0;34m:\u001B[0m\u001B[0;34m\u001B[0m\u001B[0;34m\u001B[0m\u001B[0m\n",
      "\u001B[0;32m~/Downloads/venv/lib/python3.10/site-packages/pandas/core/frame.py\u001B[0m in \u001B[0;36m_get_value\u001B[0;34m(self, index, col, takeable)\u001B[0m\n\u001B[1;32m   3611\u001B[0m         \"\"\"\n\u001B[1;32m   3612\u001B[0m         \u001B[0;32mif\u001B[0m \u001B[0mtakeable\u001B[0m\u001B[0;34m:\u001B[0m\u001B[0;34m\u001B[0m\u001B[0;34m\u001B[0m\u001B[0m\n\u001B[0;32m-> 3613\u001B[0;31m             \u001B[0mseries\u001B[0m \u001B[0;34m=\u001B[0m \u001B[0mself\u001B[0m\u001B[0;34m.\u001B[0m\u001B[0m_ixs\u001B[0m\u001B[0;34m(\u001B[0m\u001B[0mcol\u001B[0m\u001B[0;34m,\u001B[0m \u001B[0maxis\u001B[0m\u001B[0;34m=\u001B[0m\u001B[0;36m1\u001B[0m\u001B[0;34m)\u001B[0m\u001B[0;34m\u001B[0m\u001B[0;34m\u001B[0m\u001B[0m\n\u001B[0m\u001B[1;32m   3614\u001B[0m             \u001B[0;32mreturn\u001B[0m \u001B[0mseries\u001B[0m\u001B[0;34m.\u001B[0m\u001B[0m_values\u001B[0m\u001B[0;34m[\u001B[0m\u001B[0mindex\u001B[0m\u001B[0;34m]\u001B[0m\u001B[0;34m\u001B[0m\u001B[0;34m\u001B[0m\u001B[0m\n\u001B[1;32m   3615\u001B[0m \u001B[0;34m\u001B[0m\u001B[0m\n",
      "\u001B[0;32m~/Downloads/venv/lib/python3.10/site-packages/pandas/core/frame.py\u001B[0m in \u001B[0;36m_ixs\u001B[0;34m(self, i, axis)\u001B[0m\n\u001B[1;32m   3438\u001B[0m         \u001B[0;31m# icol\u001B[0m\u001B[0;34m\u001B[0m\u001B[0;34m\u001B[0m\u001B[0m\n\u001B[1;32m   3439\u001B[0m         \u001B[0;32melse\u001B[0m\u001B[0;34m:\u001B[0m\u001B[0;34m\u001B[0m\u001B[0;34m\u001B[0m\u001B[0m\n\u001B[0;32m-> 3440\u001B[0;31m             \u001B[0mlabel\u001B[0m \u001B[0;34m=\u001B[0m \u001B[0mself\u001B[0m\u001B[0;34m.\u001B[0m\u001B[0mcolumns\u001B[0m\u001B[0;34m[\u001B[0m\u001B[0mi\u001B[0m\u001B[0;34m]\u001B[0m\u001B[0;34m\u001B[0m\u001B[0;34m\u001B[0m\u001B[0m\n\u001B[0m\u001B[1;32m   3441\u001B[0m \u001B[0;34m\u001B[0m\u001B[0m\n\u001B[1;32m   3442\u001B[0m             \u001B[0mcol_mgr\u001B[0m \u001B[0;34m=\u001B[0m \u001B[0mself\u001B[0m\u001B[0;34m.\u001B[0m\u001B[0m_mgr\u001B[0m\u001B[0;34m.\u001B[0m\u001B[0miget\u001B[0m\u001B[0;34m(\u001B[0m\u001B[0mi\u001B[0m\u001B[0;34m)\u001B[0m\u001B[0;34m\u001B[0m\u001B[0;34m\u001B[0m\u001B[0m\n",
      "\u001B[0;32m~/Downloads/venv/lib/python3.10/site-packages/pandas/core/indexes/base.py\u001B[0m in \u001B[0;36m__getitem__\u001B[0;34m(self, key)\u001B[0m\n\u001B[1;32m   5037\u001B[0m             \u001B[0;31m# GH#44051 exclude bool, which would return a 2d ndarray\u001B[0m\u001B[0;34m\u001B[0m\u001B[0;34m\u001B[0m\u001B[0m\n\u001B[1;32m   5038\u001B[0m             \u001B[0mkey\u001B[0m \u001B[0;34m=\u001B[0m \u001B[0mcom\u001B[0m\u001B[0;34m.\u001B[0m\u001B[0mcast_scalar_indexer\u001B[0m\u001B[0;34m(\u001B[0m\u001B[0mkey\u001B[0m\u001B[0;34m,\u001B[0m \u001B[0mwarn_float\u001B[0m\u001B[0;34m=\u001B[0m\u001B[0;32mTrue\u001B[0m\u001B[0;34m)\u001B[0m\u001B[0;34m\u001B[0m\u001B[0;34m\u001B[0m\u001B[0m\n\u001B[0;32m-> 5039\u001B[0;31m             \u001B[0;32mreturn\u001B[0m \u001B[0mgetitem\u001B[0m\u001B[0;34m(\u001B[0m\u001B[0mkey\u001B[0m\u001B[0;34m)\u001B[0m\u001B[0;34m\u001B[0m\u001B[0;34m\u001B[0m\u001B[0m\n\u001B[0m\u001B[1;32m   5040\u001B[0m \u001B[0;34m\u001B[0m\u001B[0m\n\u001B[1;32m   5041\u001B[0m         \u001B[0;32mif\u001B[0m \u001B[0misinstance\u001B[0m\u001B[0;34m(\u001B[0m\u001B[0mkey\u001B[0m\u001B[0;34m,\u001B[0m \u001B[0mslice\u001B[0m\u001B[0;34m)\u001B[0m\u001B[0;34m:\u001B[0m\u001B[0;34m\u001B[0m\u001B[0;34m\u001B[0m\u001B[0m\n",
      "\u001B[0;31mIndexError\u001B[0m: index 5 is out of bounds for axis 0 with size 5"
     ]
    },
    {
     "data": {
      "text/plain": "<Figure size 1440x1440 with 4 Axes>",
      "image/png": "[encoded data removed]"
     },
     "metadata": {
      "needs_background": "light"
     },
     "output_type": "display_data"
    }
   ],
   "source": [
    "for ex in Expiry:\n",
    "    fig=plt.figure(figsize=(20,20))\n",
    "    ax=plt.axes()\n",
    "    ax=plt.title('Tenor=%s' %j)\n",
    "    for te,i in zip(Tenor,range(5)):\n",
    "        ax=plt.subplot(551+i)\n",
    "        ATM=frwd_swaprate[(frwd_swaprate[\"Expiry\"]==ex)&(frwd_swaprate[\"Tenor\"]==te)][\"Swap_Rate\"].values[0]\n",
    "        strikes=s*0.0001+ATM\n",
    "        T=int(ex[:-1])\n",
    "        ax=plt.plot(strikes,IVs[(IVs[\"Expiry\"]==int(ex[:-1]))&(IVs[\"Tenor\"]==int(te[:-1]))].iloc[:,2:].values.reshape(11,)\n",
    "                    ,'bo',label='Market Vol')\n",
    "        ax=plt.plot(strikes,\n",
    "                    [SABR(ATM,x,T,SABR_alpha.iloc[int(ex[:-1]),int(te[:-1])],0.9,SABR_rho.iloc[int(ex[:-1]),int(te[:-1])]\n",
    "                          ,SABR_nu.iloc[int(ex[:-1]),int(te[:-1])]) for x in strikes],\n",
    "                    'k',label='SABR Vol')\n",
    "        \n",
    "        price_DD=[Displaced_Diffusion(ATM,x,T, DD_sigma.iloc[int(ex[:-1]),int(te[:-1])],DD_beta.iloc[int(ex[:-1]),int(te[:-1])],\n",
    "                                      int(ex[:-1]),int(te[:-1]) ) for i,x in zip(range(len(strikes)),strikes)]\n",
    "        \n",
    "        ax=plt.title((ex,te))\n",
    "        ax=plt.legend()\n",
    "    plt.show()\n",
    "    \n",
    "(F, K, T, sigma, beta,exp,tenor)"
   ]
  }
 ],
 "metadata": {
  "kernelspec": {
   "display_name": "Python 3",
   "language": "python",
   "name": "python3"
  },
  "language_info": {
   "codemirror_mode": {
    "name": "ipython",
    "version": 3
   },
   "file_extension": ".py",
   "mimetype": "text/x-python",
   "name": "python",
   "nbconvert_exporter": "python",
   "pygments_lexer": "ipython3",
   "version": "3.8.8"
  }
 },
 "nbformat": 4,
 "nbformat_minor": 5
}