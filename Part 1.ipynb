{
 "cells": [
  {
   "cell_type": "markdown",
   "metadata": {
    "cell_id": "fe0a4639-5238-451b-9f08-2fa7fb1f8c30",
    "deepnote_cell_type": "text-cell-h1",
    "is_collapsed": false,
    "tags": []
   },
   "source": [
    "# Part I - Bootstrapping Swap Curves"
   ]
  },
  {
   "cell_type": "markdown",
   "metadata": {
    "cell_id": "da29079b-ba5b-4001-b6df-2824179675b7",
    "deepnote_cell_height": 74.78125,
    "deepnote_cell_type": "markdown",
    "tags": []
   },
   "source": [
    "(1) In the IR Data.xlsm spreadsheeet, OIS data is provided. `Bootstrap the OIS discount factor` $D_0$(0, T) and plot the discount curve for T ∈ [0, 30]."
   ]
  },
  {
   "cell_type": "code",
   "execution_count": 1,
   "metadata": {
    "cell_id": "e25784f9-8273-418c-bf42-d08a1a5736c1",
    "deepnote_cell_height": 189,
    "deepnote_cell_type": "code",
    "deepnote_to_be_reexecuted": false,
    "execution_millis": 1957,
    "execution_start": 1649429631096,
    "owner_user_id": "c047e7d8-a123-418d-8f50-2f8c0d995806",
    "source_hash": "a93c3886",
    "tags": []
   },
   "outputs": [],
   "source": [
    "import pandas as pd\n",
    "\n",
    "from scipy.optimize import brentq\n",
    "import matplotlib.pyplot as plt\n",
    "import numpy as np\n",
    "\n",
    "%matplotlib inline\n",
    "\n",
    "from scipy import interpolate #wrote my own function to interpolate"
   ]
  },
  {
   "cell_type": "markdown",
   "metadata": {
    "cell_id": "282cd26b-89d3-40f5-9fb1-4cc1416b4b5a",
    "deepnote_cell_height": 133.171875,
    "deepnote_cell_type": "markdown",
    "tags": []
   },
   "source": [
    "#### For OIS\n",
    "\n",
    "Day Count Convention = 30/360  \n",
    "O/N Leg Freq = Daily  \n",
    "Fixed Leg Freq = Annual  \n"
   ]
  },
  {
   "cell_type": "code",
   "execution_count": 2,
   "metadata": {
    "cell_id": "a21fadb4-6b6c-4c2b-88aa-17a0c112f3ac",
    "deepnote_cell_height": 659,
    "deepnote_cell_type": "code",
    "deepnote_table_loading": false,
    "deepnote_table_state": {
     "filters": [],
     "pageIndex": 0,
     "pageSize": 50,
     "sortBy": []
    },
    "deepnote_to_be_reexecuted": false,
    "execution_millis": 64,
    "execution_start": 1649429633062,
    "source_hash": "b550588",
    "tags": []
   },
   "outputs": [
    {
     "data": {
      "text/plain": "   Tenor Product    Rate\n0     6m     OIS  0.250%\n1     1y     OIS  0.300%\n2     2y     OIS  0.325%\n3     3y     OIS  0.335%\n4     4y     OIS  0.350%\n5     5y     OIS  0.360%\n6     7y     OIS  0.400%\n7    10y     OIS  0.450%\n8    15y     OIS  0.500%\n9    20y     OIS  0.525%\n10   30y     OIS  0.550%",
      "text/html": "<div>\n<style scoped>\n    .dataframe tbody tr th:only-of-type {\n        vertical-align: middle;\n    }\n\n    .dataframe tbody tr th {\n        vertical-align: top;\n    }\n\n    .dataframe thead th {\n        text-align: right;\n    }\n</style>\n<table border=\"1\" class=\"dataframe\">\n  <thead>\n    <tr style=\"text-align: right;\">\n      <th></th>\n      <th>Tenor</th>\n      <th>Product</th>\n      <th>Rate</th>\n    </tr>\n  </thead>\n  <tbody>\n    <tr>\n      <th>0</th>\n      <td>6m</td>\n      <td>OIS</td>\n      <td>0.250%</td>\n    </tr>\n    <tr>\n      <th>1</th>\n      <td>1y</td>\n      <td>OIS</td>\n      <td>0.300%</td>\n    </tr>\n    <tr>\n      <th>2</th>\n      <td>2y</td>\n      <td>OIS</td>\n      <td>0.325%</td>\n    </tr>\n    <tr>\n      <th>3</th>\n      <td>3y</td>\n      <td>OIS</td>\n      <td>0.335%</td>\n    </tr>\n    <tr>\n      <th>4</th>\n      <td>4y</td>\n      <td>OIS</td>\n      <td>0.350%</td>\n    </tr>\n    <tr>\n      <th>5</th>\n      <td>5y</td>\n      <td>OIS</td>\n      <td>0.360%</td>\n    </tr>\n    <tr>\n      <th>6</th>\n      <td>7y</td>\n      <td>OIS</td>\n      <td>0.400%</td>\n    </tr>\n    <tr>\n      <th>7</th>\n      <td>10y</td>\n      <td>OIS</td>\n      <td>0.450%</td>\n    </tr>\n    <tr>\n      <th>8</th>\n      <td>15y</td>\n      <td>OIS</td>\n      <td>0.500%</td>\n    </tr>\n    <tr>\n      <th>9</th>\n      <td>20y</td>\n      <td>OIS</td>\n      <td>0.525%</td>\n    </tr>\n    <tr>\n      <th>10</th>\n      <td>30y</td>\n      <td>OIS</td>\n      <td>0.550%</td>\n    </tr>\n  </tbody>\n</table>\n</div>"
     },
     "execution_count": 2,
     "metadata": {},
     "output_type": "execute_result"
    }
   ],
   "source": [
    "ois_data = pd.read_csv('Data/OIS.csv')\n",
    "ois_data"
   ]
  },
  {
   "cell_type": "code",
   "execution_count": 3,
   "metadata": {
    "cell_id": "76dca407-dfdc-439a-8c64-bec5f208cfe1",
    "deepnote_cell_height": 153,
    "deepnote_cell_type": "code",
    "deepnote_to_be_reexecuted": false,
    "execution_millis": 6,
    "execution_start": 1649429633131,
    "source_hash": "7a96bfe0",
    "tags": []
   },
   "outputs": [],
   "source": [
    "# Data Cleaning\n",
    "ois_data[\"OIS_rate\"] = [float(i.strip('%')) for i in ois_data.Rate]\n",
    "ois_data.OIS_rate = ois_data.OIS_rate/100\n",
    "\n",
    "ois_data[\"Tenor\"] = [0.5, 1, 2, 3, 4, 5, 7, 10, 15, 20, 30] # only a few so I hardcoded it"
   ]
  },
  {
   "cell_type": "code",
   "execution_count": 4,
   "metadata": {
    "cell_id": "c58d2e4d-5587-489c-b524-0fee3e6a78e2",
    "deepnote_cell_height": 313,
    "deepnote_cell_type": "code",
    "deepnote_to_be_reexecuted": false,
    "execution_millis": 4,
    "execution_start": 1649429633192,
    "source_hash": "d1bc14ec",
    "tags": []
   },
   "outputs": [
    {
     "data": {
      "text/plain": "   Tenor Product    Rate  OIS_rate\n0    0.5     OIS  0.250%   0.00250\n1    1.0     OIS  0.300%   0.00300\n2    2.0     OIS  0.325%   0.00325",
      "text/html": "<div>\n<style scoped>\n    .dataframe tbody tr th:only-of-type {\n        vertical-align: middle;\n    }\n\n    .dataframe tbody tr th {\n        vertical-align: top;\n    }\n\n    .dataframe thead th {\n        text-align: right;\n    }\n</style>\n<table border=\"1\" class=\"dataframe\">\n  <thead>\n    <tr style=\"text-align: right;\">\n      <th></th>\n      <th>Tenor</th>\n      <th>Product</th>\n      <th>Rate</th>\n      <th>OIS_rate</th>\n    </tr>\n  </thead>\n  <tbody>\n    <tr>\n      <th>0</th>\n      <td>0.5</td>\n      <td>OIS</td>\n      <td>0.250%</td>\n      <td>0.00250</td>\n    </tr>\n    <tr>\n      <th>1</th>\n      <td>1.0</td>\n      <td>OIS</td>\n      <td>0.300%</td>\n      <td>0.00300</td>\n    </tr>\n    <tr>\n      <th>2</th>\n      <td>2.0</td>\n      <td>OIS</td>\n      <td>0.325%</td>\n      <td>0.00325</td>\n    </tr>\n  </tbody>\n</table>\n</div>"
     },
     "execution_count": 4,
     "metadata": {},
     "output_type": "execute_result"
    }
   ],
   "source": [
    "ois_data.head(3)"
   ]
  },
  {
   "cell_type": "markdown",
   "metadata": {
    "cell_id": "88393474-084d-4ab9-afd9-2d1f87102133",
    "deepnote_cell_height": 148.21875,
    "deepnote_cell_type": "markdown",
    "tags": []
   },
   "source": [
    "##### General Idea: In order to plot discount curve, we need to do bootstrapping, and in order to do that, we need to first calculate all the daily compounded overnight rates $f_i$ throughout the period T.\n",
    "\n",
    "$D_o(0,6m) = \\frac {1}{(1 + \\frac {f_0}{360})^{180}}$  \n",
    "$D_o(0,1y) = D_0(0,6m) \\times D_0(6m,1y) = D_o(0,6m) \\times \\frac {1}{(1 + \\frac {f_1}{360})^{180}}$\n"
   ]
  },
  {
   "cell_type": "markdown",
   "metadata": {
    "cell_id": "3bea25e0-49cf-4f33-ada6-6d42db30491d",
    "deepnote_cell_height": 162.265625,
    "deepnote_cell_type": "markdown",
    "tags": []
   },
   "source": [
    "Let $f_0$ denote the daily compounded overnight rate for [0, 6m]. Using the 6m OIS, we have:\n",
    "\n",
    "$PV_{fix}^{6m OIS} = PV_{flt}^{6m OIS}$\n",
    "\n",
    "$D_o(0,6m) × 0.5 × 0.25\\% = D_o(0,6m) × 0.5 × [(1 + \\frac{f_0}{360})^{180} - 1]$ \n",
    "\n",
    "We can now solve for $f_0$."
   ]
  },
  {
   "cell_type": "code",
   "execution_count": 5,
   "metadata": {
    "cell_id": "ccbe128a-d197-4a29-9c3c-f9d85d31f0a1",
    "deepnote_cell_height": 136.1875,
    "deepnote_cell_type": "code",
    "deepnote_output_heights": [
     21.1875
    ],
    "deepnote_to_be_reexecuted": false,
    "execution_millis": 4,
    "execution_start": 1649429633224,
    "source_hash": "ebca8655",
    "tags": []
   },
   "outputs": [
    {
     "data": {
      "text/plain": "0.004993795032932624"
     },
     "execution_count": 5,
     "metadata": {},
     "output_type": "execute_result"
    }
   ],
   "source": [
    "f_0 = (((ois_data.OIS_rate[0]+1)**(1/180)) - 1) * 360 \n",
    "f_0"
   ]
  },
  {
   "cell_type": "code",
   "execution_count": 6,
   "metadata": {
    "cell_id": "2b00c3134efd478195bbd514a7f2cf75",
    "deepnote_cell_height": 172.1875,
    "deepnote_cell_type": "code",
    "deepnote_output_heights": [
     21.1875
    ],
    "deepnote_to_be_reexecuted": false,
    "execution_millis": 3,
    "execution_start": 1649429633225,
    "source_hash": "af8e004b",
    "tags": []
   },
   "outputs": [
    {
     "data": {
      "text/plain": "0.0024984474705118964"
     },
     "execution_count": 6,
     "metadata": {},
     "output_type": "execute_result"
    }
   ],
   "source": [
    "# crossed checked with root search method to find f_0 and the results are very similar\n",
    "test_rs = lambda y: ((1/(1+y/360))**180 * 0.5 * ois_data.OIS_rate[0]) - ((1/(1+y/360))**180 * ((1 + y/360)**180 - 1))\n",
    "rs = brentq(test_rs, 0, 1)\n",
    "rs"
   ]
  },
  {
   "cell_type": "code",
   "execution_count": 7,
   "metadata": {
    "cell_id": "cbc077d31c2c4997835b227a3515b481",
    "deepnote_cell_height": 154.1875,
    "deepnote_cell_type": "code",
    "deepnote_output_heights": [
     21.1875
    ],
    "deepnote_to_be_reexecuted": false,
    "execution_millis": 4,
    "execution_start": 1649429633226,
    "source_hash": "dedc5a54",
    "tags": []
   },
   "outputs": [
    {
     "data": {
      "text/plain": "0.9975062344139736"
     },
     "execution_count": 7,
     "metadata": {},
     "output_type": "execute_result"
    }
   ],
   "source": [
    "x0 = (1 + (f_0/360))**180 # for ease of troubleshooting\n",
    "D_6m = 1 / x0\n",
    "D_6m"
   ]
  },
  {
   "cell_type": "markdown",
   "metadata": {
    "cell_id": "3faedabf-b6b1-49ca-8725-c379860c3319",
    "deepnote_cell_height": 162.828125,
    "deepnote_cell_type": "markdown",
    "tags": []
   },
   "source": [
    "Having obtained this, we can then let $f_1$ denote the daily compounded overnight rate for [6m, 1y].\n",
    "Using the 1y OIS, we have:\n",
    "\n",
    "$PV_{fix}^{1y OIS} = PV_{flt}^{1y OIS}$\n",
    "\n",
    "$D_o(0,1y) × 0.3\\% = D_o(0,1y) × [(1 + \\frac{f_0}{360})^{180}(1 + \\frac{f_1}{360})^{180} -1 ]$\n",
    "\n",
    "We can now solve for $f_1$."
   ]
  },
  {
   "cell_type": "code",
   "execution_count": 8,
   "metadata": {
    "cell_id": "174f53f6-e4db-4ef5-b77e-db567f7271b1",
    "deepnote_cell_height": 136.1875,
    "deepnote_cell_type": "code",
    "deepnote_output_heights": [
     21.1875
    ],
    "deepnote_to_be_reexecuted": false,
    "execution_millis": 0,
    "execution_start": 1649429633275,
    "source_hash": "282e72cc",
    "tags": []
   },
   "outputs": [
    {
     "data": {
      "text/plain": "0.0009972589437445833"
     },
     "execution_count": 8,
     "metadata": {},
     "output_type": "execute_result"
    }
   ],
   "source": [
    "f_1 = (((1+ois_data.OIS_rate[1])/x0)**(1/180) - 1) * 360\n",
    "f_1"
   ]
  },
  {
   "cell_type": "code",
   "execution_count": 9,
   "metadata": {
    "cell_id": "6e8c943b-4427-4f40-9166-b5bdbc9caf93",
    "deepnote_cell_height": 136.1875,
    "deepnote_cell_type": "code",
    "deepnote_output_heights": [
     21.1875
    ],
    "deepnote_to_be_reexecuted": false,
    "execution_millis": 2,
    "execution_start": 1649429633276,
    "owner_user_id": "2ae7fc91-8a55-4dd9-b6b4-c1204585654d",
    "source_hash": "9fa9f6e6",
    "tags": []
   },
   "outputs": [
    {
     "data": {
      "text/plain": "0.9970089730807465"
     },
     "execution_count": 9,
     "metadata": {},
     "output_type": "execute_result"
    }
   ],
   "source": [
    "D_1y = D_6m * 1/(1+f_1/360)**180\n",
    "D_1y"
   ]
  },
  {
   "cell_type": "markdown",
   "metadata": {
    "cell_id": "86dce0a8-107d-4ec5-95b0-4b843f87b1e0",
    "deepnote_cell_height": 176.828125,
    "deepnote_cell_type": "markdown",
    "tags": []
   },
   "source": [
    "Next, we move on to the 2y OIS. Let $f_2$ denote the daily compounded overnight rate for [1y, 2y], we have\n",
    "\n",
    "$PV_{fix}^{2y OIS} = PV_{flt}^{2y OIS}$\n",
    "\n",
    "$[D_o(0,1y) + D_o(0,2y)] × 0.325\\% = D_o(0,1y) × [(1 + \\frac{f_0}{360})^{180}(1 + \\frac{f_1}{360})^{180} -1 ] + D_o(0,2y) × [(1 + \\frac{f_2}{360})^{360} - 1]$\n",
    "\n",
    "- Use root search method to solve for $f$ first then substitute it back to find $D_o$"
   ]
  },
  {
   "cell_type": "markdown",
   "metadata": {
    "cell_id": "c5f2cff6-14fd-477d-b4f4-486aa18e99dd",
    "deepnote_cell_height": 262.15625,
    "deepnote_cell_type": "markdown",
    "tags": []
   },
   "source": [
    "$D_o(0,2y) = D_o(0,6m) \\times D_o(6m,1y) \\times D_o(1y,2y) = \\frac {1}{(1 + \\frac {f_0}{360})^{180}} \\times \\frac {1}{(1 + \\frac {f_1}{360})^{180}} \\times \\frac {1}{(1 + \\frac {f_2}{360})^{360}}$ \n",
    "\n",
    "=> $D_o(0,2y) = D_o(0,1y) \\times D_o(1y,2y) = D_o(0,1y) \\times \\frac {1}{(1 + \\frac {f_2}{360})^{360}}$\n",
    "\n",
    "=> $D_o(0,3y) = D_o(0,1y) \\times D_o(1y,2y) \\times D_o(2y,3y) = D_o(0,2y) \\times D_o(2y,3y) = D_o(0,2y) \\times \\frac {1}{(1 + \\frac {f_3}{360})^{360}}$ \n",
    "\n",
    "Hence, generally the below equation is used to root search the overnight rate $f_t$. \n",
    "\n",
    "$[\\sum_{t=1}^{T-n}D_o(0,t) + D_o(0,T)] × S_{T} = D_o(0,1y)[(1 + \\frac{f_0}{360})^{180}(1 + \\frac{f_1}{360})^{180} -1 ] + \\sum_{t=1}^{T-n}D_o(0,t)[(1 + \\frac{f_t}{360})^{360} - 1] + D_o(0,T)[(1 + \\frac{f_T}{360})^{360} - 1]$  \n",
    "\n",
    "where $D_o(0,T) = D_o(0,T-n) \\times D_o(T-n,T) = D_o(0,T-n) \\times \\frac {1}{(1 + \\frac {f_T}{360})^{360*n}}$"
   ]
  },
  {
   "cell_type": "code",
   "execution_count": 10,
   "metadata": {
    "cell_id": "9b42b30d4bb64ff5b7c832d92cfbd91e",
    "deepnote_cell_height": 769.75,
    "deepnote_cell_type": "code",
    "deepnote_to_be_reexecuted": false,
    "execution_millis": 45,
    "execution_start": 1649429633276,
    "source_hash": "a679648b",
    "tags": []
   },
   "outputs": [
    {
     "name": "stderr",
     "output_type": "stream",
     "text": [
      "/tmp/ipykernel_35757/166981969.py:13: SettingWithCopyWarning: \n",
      "A value is trying to be set on a copy of a slice from a DataFrame\n",
      "\n",
      "See the caveats in the documentation: https://pandas.pydata.org/pandas-docs/stable/user_guide/indexing.html#returning-a-view-versus-a-copy\n",
      "  ois_df['f'][0] = f_0\n",
      "/tmp/ipykernel_35757/166981969.py:14: SettingWithCopyWarning: \n",
      "A value is trying to be set on a copy of a slice from a DataFrame\n",
      "\n",
      "See the caveats in the documentation: https://pandas.pydata.org/pandas-docs/stable/user_guide/indexing.html#returning-a-view-versus-a-copy\n",
      "  ois_df['f'][1] = f_1\n",
      "/tmp/ipykernel_35757/166981969.py:15: SettingWithCopyWarning: \n",
      "A value is trying to be set on a copy of a slice from a DataFrame\n",
      "\n",
      "See the caveats in the documentation: https://pandas.pydata.org/pandas-docs/stable/user_guide/indexing.html#returning-a-view-versus-a-copy\n",
      "  ois_df['OIS_DF'][0] = D_6m\n",
      "/tmp/ipykernel_35757/166981969.py:16: SettingWithCopyWarning: \n",
      "A value is trying to be set on a copy of a slice from a DataFrame\n",
      "\n",
      "See the caveats in the documentation: https://pandas.pydata.org/pandas-docs/stable/user_guide/indexing.html#returning-a-view-versus-a-copy\n",
      "  ois_df['OIS_DF'][1] = D_1y\n"
     ]
    }
   ],
   "source": [
    "# Include full time range as OIS is annual frequency\n",
    "\n",
    "tmp_df = pd.DataFrame(data=np.arange(1,30.5,1), columns=['Tenor'])\n",
    "data = []\n",
    "data.insert(0,{'Tenor':0.5})\n",
    "tmp_df = pd.concat([pd.DataFrame(data), tmp_df], ignore_index=True)\n",
    "ois_df = pd.merge(tmp_df, ois_data, on=\"Tenor\", how=\"left\").drop('Product', axis =1 )\n",
    "\n",
    "# Prepare columns\n",
    "ois_df['OIS_DF'] = np.nan\n",
    "ois_df['f'] = np.nan\n",
    "\n",
    "ois_df['f'][0] = f_0\n",
    "ois_df['f'][1] = f_1\n",
    "ois_df['OIS_DF'][0] = D_6m\n",
    "ois_df['OIS_DF'][1] = D_1y"
   ]
  },
  {
   "cell_type": "code",
   "execution_count": 11,
   "metadata": {
    "cell_id": "dc7465646fb24688957586672d365385",
    "deepnote_cell_height": 313,
    "deepnote_cell_type": "code",
    "deepnote_table_loading": false,
    "deepnote_table_state": {
     "filters": [],
     "pageIndex": 0,
     "pageSize": 10,
     "sortBy": []
    },
    "deepnote_to_be_reexecuted": false,
    "execution_millis": 7,
    "execution_start": 1649429633319,
    "source_hash": "28c7c036",
    "tags": []
   },
   "outputs": [
    {
     "data": {
      "text/plain": "   Tenor    Rate  OIS_rate    OIS_DF         f\n0    0.5  0.250%   0.00250  0.997506  0.004994\n1    1.0  0.300%   0.00300  0.997009  0.000997\n2    2.0  0.325%   0.00325       NaN       NaN",
      "text/html": "<div>\n<style scoped>\n    .dataframe tbody tr th:only-of-type {\n        vertical-align: middle;\n    }\n\n    .dataframe tbody tr th {\n        vertical-align: top;\n    }\n\n    .dataframe thead th {\n        text-align: right;\n    }\n</style>\n<table border=\"1\" class=\"dataframe\">\n  <thead>\n    <tr style=\"text-align: right;\">\n      <th></th>\n      <th>Tenor</th>\n      <th>Rate</th>\n      <th>OIS_rate</th>\n      <th>OIS_DF</th>\n      <th>f</th>\n    </tr>\n  </thead>\n  <tbody>\n    <tr>\n      <th>0</th>\n      <td>0.5</td>\n      <td>0.250%</td>\n      <td>0.00250</td>\n      <td>0.997506</td>\n      <td>0.004994</td>\n    </tr>\n    <tr>\n      <th>1</th>\n      <td>1.0</td>\n      <td>0.300%</td>\n      <td>0.00300</td>\n      <td>0.997009</td>\n      <td>0.000997</td>\n    </tr>\n    <tr>\n      <th>2</th>\n      <td>2.0</td>\n      <td>0.325%</td>\n      <td>0.00325</td>\n      <td>NaN</td>\n      <td>NaN</td>\n    </tr>\n  </tbody>\n</table>\n</div>"
     },
     "execution_count": 11,
     "metadata": {},
     "output_type": "execute_result"
    }
   ],
   "source": [
    "ois_df.head(3)"
   ]
  },
  {
   "cell_type": "code",
   "execution_count": 12,
   "metadata": {
    "cell_id": "aadb7a6f091e45ca9294dcc76c5d7d01",
    "deepnote_cell_height": 315,
    "deepnote_cell_type": "code",
    "deepnote_to_be_reexecuted": false,
    "execution_millis": 4,
    "execution_start": 1649429633331,
    "source_hash": "812cf06d",
    "tags": []
   },
   "outputs": [],
   "source": [
    "# Define root search func:  pv_fix - pv_float = 0\n",
    "#we set last tenor OIS_Discount(0,Ti) as x ,and do root search to solve the equation\n",
    "def get_OIS_func(x): \n",
    "    float_unknown_sum = ois_df['OIS_DF'][i-1] - x \n",
    "    fix_discount_unknown_sum = 0\n",
    "    diff = ois_df['OIS_DF'][i-1] - x\n",
    "\n",
    "    for n in range(0,h-i+1):\n",
    "        D = x + ((h-i+1-n-1)/(h-i+1))*diff # interpolate LIBOR df\n",
    "        fix_discount_unknown_sum += D\n",
    "    fix_unknown_sum = fix_discount_unknown_sum * ois_df.OIS_rate[h]\n",
    "\n",
    "\n",
    "    return fix_unknown_sum + fix_known_sum - float_unknown_sum - float_known_sum "
   ]
  },
  {
   "cell_type": "code",
   "execution_count": 13,
   "metadata": {
    "cell_id": "ae8aa585beb64c539ec4a3a1a94a587a",
    "deepnote_cell_height": 635.5,
    "deepnote_cell_type": "code",
    "deepnote_to_be_reexecuted": false,
    "execution_millis": 48,
    "execution_start": 1649429633386,
    "source_hash": "a9085244",
    "tags": []
   },
   "outputs": [
    {
     "name": "stderr",
     "output_type": "stream",
     "text": [
      "/tmp/ipykernel_35757/1755235192.py:20: SettingWithCopyWarning: \n",
      "A value is trying to be set on a copy of a slice from a DataFrame\n",
      "\n",
      "See the caveats in the documentation: https://pandas.pydata.org/pandas-docs/stable/user_guide/indexing.html#returning-a-view-versus-a-copy\n",
      "  ois_df['OIS_DF'][i+n] = D_last + ((h-i+1-n-1)/(h-i+1))*(ois_df['OIS_DF'][i-1] - D_last)\n",
      "/tmp/ipykernel_35757/1755235192.py:21: SettingWithCopyWarning: \n",
      "A value is trying to be set on a copy of a slice from a DataFrame\n",
      "\n",
      "See the caveats in the documentation: https://pandas.pydata.org/pandas-docs/stable/user_guide/indexing.html#returning-a-view-versus-a-copy\n",
      "  ois_df['f'][i+n] = 360*((ois_df['OIS_DF'][i+n-1]/ois_df['OIS_DF'][i+n])**(1/360)-1)\n"
     ]
    }
   ],
   "source": [
    "i = 2\n",
    "while i <=30:\n",
    "    h = i\n",
    "\n",
    "    while np.isnan(ois_df.OIS_rate[h]):\n",
    "        h += 1\n",
    "    k =1\n",
    "    fix_known_sum = 0\n",
    "\n",
    "    while k < i:\n",
    "        fix_known = ois_df['OIS_DF'][k]*ois_df.OIS_rate[h]\n",
    "        fix_known_sum += fix_known\n",
    "        k+=1\n",
    "    float_known_sum = ois_df.OIS_rate[i-1]*ois_df['OIS_DF'][1:i].sum()\n",
    "\n",
    "    func = lambda x:(get_OIS_func(x))\n",
    "    D_last = brentq(func, 1e-6, 1) \n",
    "\n",
    "    for n in range(0,h-i+1):\n",
    "        ois_df['OIS_DF'][i+n] = D_last + ((h-i+1-n-1)/(h-i+1))*(ois_df['OIS_DF'][i-1] - D_last)\n",
    "        ois_df['f'][i+n] = 360*((ois_df['OIS_DF'][i+n-1]/ois_df['OIS_DF'][i+n])**(1/360)-1)\n",
    "    i = h+1"
   ]
  },
  {
   "cell_type": "code",
   "execution_count": 14,
   "metadata": {
    "cell_id": "69b3de0477f44460a1ec13bee12bbc31",
    "deepnote_cell_height": 467,
    "deepnote_cell_type": "code",
    "deepnote_output_heights": [
     280
    ],
    "deepnote_to_be_reexecuted": false,
    "execution_millis": 841,
    "execution_start": 1649429634098,
    "source_hash": "b708ffb9",
    "tags": []
   },
   "outputs": [
    {
     "data": {
      "text/plain": "<Figure size 432x288 with 1 Axes>",
      "image/png": "[encoded data removed]"
     },
     "metadata": {
      "needs_background": "light"
     },
     "output_type": "display_data"
    }
   ],
   "source": [
    "plt.plot(figsize=(24,16))\n",
    "plt.plot(ois_df.Tenor, ois_df[\"OIS_DF\"])\n",
    "plt.xlabel(\"Tenor, T\")\n",
    "plt.ylabel(\"OIS Discount Factor, Do(0,T)\")\n",
    "plt.title(\"Bootstrapping OIS Discount Factor Curve\")\n",
    "plt.grid(linestyle='dotted')"
   ]
  },
  {
   "cell_type": "code",
   "execution_count": 15,
   "metadata": {
    "cell_id": "d58bf9ff-9108-41e1-97b9-ff7c4d8b3646",
    "deepnote_cell_height": 171,
    "deepnote_cell_type": "code",
    "deepnote_to_be_reexecuted": false,
    "execution_millis": 4,
    "execution_start": 1649429634371,
    "source_hash": "f720f176",
    "tags": []
   },
   "outputs": [],
   "source": [
    "def interpolate(L, R, Target):\n",
    "\n",
    "    x_L = (Target - R)/(L-R)\n",
    "    x_R = 1 - x_L\n",
    "\n",
    "    return abs(x_L), abs(x_R) "
   ]
  },
  {
   "cell_type": "markdown",
   "metadata": {
    "cell_id": "e6de5b0b-83e1-4fc5-ab2a-78452a43ab47",
    "deepnote_cell_height": 128.171875,
    "deepnote_cell_type": "markdown",
    "tags": []
   },
   "source": [
    "(2) Using the IRS data provided, `bootstrap the LIBOR discount factor` D(0,T), and plot it for T ∈ [0,30].\n",
    "\n",
    "* Assume that the `swap market is collateralized` in cash and overnight interest is paid on collateral posted.\n",
    "* Therefore, we need to discount with OIS Discount Factors found in Part 1"
   ]
  },
  {
   "cell_type": "markdown",
   "metadata": {
    "cell_id": "75e36771-f588-4fb3-be20-d8d778b9e94f",
    "deepnote_cell_height": 133.171875,
    "deepnote_cell_type": "markdown",
    "tags": []
   },
   "source": [
    "#### For IRS\n",
    "Day Count Convention = 30/360  \n",
    "Fixed Leg Freq = Semi-annual  \n",
    "Floating Leg Freq = Semi Annual  "
   ]
  },
  {
   "cell_type": "code",
   "execution_count": 16,
   "metadata": {
    "cell_id": "4a173d57-163b-46cf-bb39-d7f4658da484",
    "deepnote_cell_height": 331,
    "deepnote_cell_type": "code",
    "deepnote_table_loading": false,
    "deepnote_table_state": {
     "filters": [],
     "pageIndex": 0,
     "pageSize": 25,
     "sortBy": []
    },
    "deepnote_to_be_reexecuted": false,
    "execution_millis": 517,
    "execution_start": 1649429634423,
    "source_hash": "dedc07cb",
    "tags": []
   },
   "outputs": [
    {
     "data": {
      "text/plain": "  Tenor Product   Rate\n0    6m   LIBOR  2.50%\n1    1y     IRS  2.80%\n2    2y     IRS  3.00%",
      "text/html": "<div>\n<style scoped>\n    .dataframe tbody tr th:only-of-type {\n        vertical-align: middle;\n    }\n\n    .dataframe tbody tr th {\n        vertical-align: top;\n    }\n\n    .dataframe thead th {\n        text-align: right;\n    }\n</style>\n<table border=\"1\" class=\"dataframe\">\n  <thead>\n    <tr style=\"text-align: right;\">\n      <th></th>\n      <th>Tenor</th>\n      <th>Product</th>\n      <th>Rate</th>\n    </tr>\n  </thead>\n  <tbody>\n    <tr>\n      <th>0</th>\n      <td>6m</td>\n      <td>LIBOR</td>\n      <td>2.50%</td>\n    </tr>\n    <tr>\n      <th>1</th>\n      <td>1y</td>\n      <td>IRS</td>\n      <td>2.80%</td>\n    </tr>\n    <tr>\n      <th>2</th>\n      <td>2y</td>\n      <td>IRS</td>\n      <td>3.00%</td>\n    </tr>\n  </tbody>\n</table>\n</div>"
     },
     "execution_count": 16,
     "metadata": {},
     "output_type": "execute_result"
    }
   ],
   "source": [
    "irs_data = pd.read_csv('Data/IRS.csv')\n",
    "irs_data.head(3)"
   ]
  },
  {
   "cell_type": "code",
   "execution_count": 17,
   "metadata": {
    "cell_id": "ec205cfb-391d-4a76-b52c-50e85136fb37",
    "deepnote_cell_height": 189,
    "deepnote_cell_type": "code",
    "deepnote_to_be_reexecuted": false,
    "execution_millis": 0,
    "execution_start": 1649429634467,
    "source_hash": "5969071c",
    "tags": []
   },
   "outputs": [],
   "source": [
    "# Data Cleaning and Preparation\n",
    "irs_data[\"IRS_rate\"] = [float(i.strip('%')) for i in irs_data.Rate]\n",
    "irs_data.IRS_rate = irs_data.IRS_rate/100\n",
    "\n",
    "irs_data[\"Tenor\"] = [0.5, 1, 2, 3, 4, 5, 7, 10, 15, 20, 30] # only a few so I hardcoded it\n",
    "\n",
    "accrusal_frac = 0.5"
   ]
  },
  {
   "cell_type": "code",
   "execution_count": 18,
   "metadata": {
    "cell_id": "f1d05b4f-5420-4038-bf68-30b7d134bea6",
    "deepnote_cell_height": 313,
    "deepnote_cell_type": "code",
    "deepnote_table_loading": false,
    "deepnote_table_state": {
     "filters": [],
     "pageIndex": 0,
     "pageSize": 25,
     "sortBy": []
    },
    "deepnote_to_be_reexecuted": false,
    "execution_millis": 0,
    "execution_start": 1649429634519,
    "source_hash": "8ed9c1f2",
    "tags": []
   },
   "outputs": [
    {
     "data": {
      "text/plain": "   Tenor Product   Rate  IRS_rate\n0    0.5   LIBOR  2.50%     0.025\n1    1.0     IRS  2.80%     0.028\n2    2.0     IRS  3.00%     0.030",
      "text/html": "<div>\n<style scoped>\n    .dataframe tbody tr th:only-of-type {\n        vertical-align: middle;\n    }\n\n    .dataframe tbody tr th {\n        vertical-align: top;\n    }\n\n    .dataframe thead th {\n        text-align: right;\n    }\n</style>\n<table border=\"1\" class=\"dataframe\">\n  <thead>\n    <tr style=\"text-align: right;\">\n      <th></th>\n      <th>Tenor</th>\n      <th>Product</th>\n      <th>Rate</th>\n      <th>IRS_rate</th>\n    </tr>\n  </thead>\n  <tbody>\n    <tr>\n      <th>0</th>\n      <td>0.5</td>\n      <td>LIBOR</td>\n      <td>2.50%</td>\n      <td>0.025</td>\n    </tr>\n    <tr>\n      <th>1</th>\n      <td>1.0</td>\n      <td>IRS</td>\n      <td>2.80%</td>\n      <td>0.028</td>\n    </tr>\n    <tr>\n      <th>2</th>\n      <td>2.0</td>\n      <td>IRS</td>\n      <td>3.00%</td>\n      <td>0.030</td>\n    </tr>\n  </tbody>\n</table>\n</div>"
     },
     "execution_count": 18,
     "metadata": {},
     "output_type": "execute_result"
    }
   ],
   "source": [
    "irs_data.head(3)"
   ]
  },
  {
   "cell_type": "markdown",
   "metadata": {
    "cell_id": "43cc83e374664d038e10b6302c7c7a08",
    "deepnote_cell_height": 54,
    "deepnote_cell_type": "markdown",
    "tags": []
   },
   "source": [
    "#### Interpolating all the semi-annual OIS Discount Factors"
   ]
  },
  {
   "cell_type": "code",
   "execution_count": 19,
   "metadata": {
    "cell_id": "ff65445b06bd4d4e83efab5fbca3c05b",
    "deepnote_cell_height": 600,
    "deepnote_cell_type": "code",
    "deepnote_table_loading": false,
    "deepnote_table_state": {
     "filters": [],
     "pageIndex": 0,
     "pageSize": 10,
     "sortBy": []
    },
    "deepnote_to_be_reexecuted": false,
    "execution_millis": 427,
    "execution_start": 1649429634520,
    "source_hash": "d0521b06",
    "tags": []
   },
   "outputs": [
    {
     "data": {
      "text/plain": "   Tenor    Rate  OIS_rate    OIS_DF         f\n0    0.5  0.250%   0.00250  0.997506  0.004994\n1    1.0  0.300%   0.00300  0.997009  0.000997\n2    2.0  0.325%   0.00325  0.993531  0.003495",
      "text/html": "<div>\n<style scoped>\n    .dataframe tbody tr th:only-of-type {\n        vertical-align: middle;\n    }\n\n    .dataframe tbody tr th {\n        vertical-align: top;\n    }\n\n    .dataframe thead th {\n        text-align: right;\n    }\n</style>\n<table border=\"1\" class=\"dataframe\">\n  <thead>\n    <tr style=\"text-align: right;\">\n      <th></th>\n      <th>Tenor</th>\n      <th>Rate</th>\n      <th>OIS_rate</th>\n      <th>OIS_DF</th>\n      <th>f</th>\n    </tr>\n  </thead>\n  <tbody>\n    <tr>\n      <th>0</th>\n      <td>0.5</td>\n      <td>0.250%</td>\n      <td>0.00250</td>\n      <td>0.997506</td>\n      <td>0.004994</td>\n    </tr>\n    <tr>\n      <th>1</th>\n      <td>1.0</td>\n      <td>0.300%</td>\n      <td>0.00300</td>\n      <td>0.997009</td>\n      <td>0.000997</td>\n    </tr>\n    <tr>\n      <th>2</th>\n      <td>2.0</td>\n      <td>0.325%</td>\n      <td>0.00325</td>\n      <td>0.993531</td>\n      <td>0.003495</td>\n    </tr>\n  </tbody>\n</table>\n</div>"
     },
     "execution_count": 19,
     "metadata": {},
     "output_type": "execute_result"
    }
   ],
   "source": [
    "ois_df.head(3)"
   ]
  },
  {
   "cell_type": "code",
   "execution_count": 20,
   "metadata": {
    "cell_id": "69ddc7d3-ad57-4190-9e43-2fd3fd5a5ab2",
    "deepnote_cell_height": 370.1875,
    "deepnote_cell_type": "code",
    "deepnote_output_heights": [
     21.1875
    ],
    "deepnote_to_be_reexecuted": false,
    "execution_millis": 359,
    "execution_start": 1649429634588,
    "source_hash": "cfe7e7e",
    "tags": []
   },
   "outputs": [
    {
     "data": {
      "text/plain": "60"
     },
     "execution_count": 20,
     "metadata": {},
     "output_type": "execute_result"
    }
   ],
   "source": [
    "semi_ois_df = [ois_df.OIS_DF[0], ois_df.OIS_DF[1]]\n",
    "\n",
    "# Interpolating all the semi-annual OIS Discount Factors\n",
    "for t in range(1,len(ois_df)):\n",
    "    if (ois_df.Tenor[t] - ois_df.Tenor[t-1]) > 0.5:\n",
    "        for x in np.arange(ois_df.Tenor[t-1] + 0.5, ois_df.Tenor[t]+0.5, 0.5):\n",
    "            # print(x)\n",
    "            left_weight, right_weight = interpolate(ois_df.Tenor[t-1], ois_df.Tenor[t], x)\n",
    "            # print(left_weight, right_weight)\n",
    "\n",
    "            tmp = left_weight*ois_df.OIS_DF[t-1] + right_weight*ois_df.OIS_DF[t]\n",
    "            semi_ois_df.append(tmp)\n",
    "\n",
    "len(semi_ois_df)\n",
    "# semi_ois_df"
   ]
  },
  {
   "cell_type": "markdown",
   "metadata": {
    "cell_id": "1617a243-e788-4b5f-87a0-9fc962ceece9",
    "deepnote_cell_height": 183.5625,
    "deepnote_cell_type": "markdown",
    "tags": []
   },
   "source": [
    "##### Background Equations (Concept)\n",
    "\n",
    "$PV_{fix} = K \\sum _{i=1}^n\\triangle_{i-1} D(0,T_i)$\n",
    "\n",
    "$PV_{flt} = D(0, T_0) - D(0,T_n)$\n",
    "\n",
    "$PV_{fix} = PV_{flt}$  \n",
    "$=> K \\sum _{i=1}^n\\triangle_{i-1} D(0,T_i) = D(0, T_0) - D(0,T_n)$\n"
   ]
  },
  {
   "cell_type": "markdown",
   "metadata": {
    "cell_id": "39643b98-94ad-4926-8e04-48e4757c7bef",
    "deepnote_cell_height": 116.578125,
    "deepnote_cell_type": "markdown",
    "tags": []
   },
   "source": [
    "* Swap market is collateralized\n",
    "\n",
    "Given the 6 months LIBOR rate $L_{6m}$ = 2.5%,   \n",
    "D(0, 6m) = $\\frac {1}{1+\\triangle_{6m}L_{6m}} = \\frac {1}{1+(0.5)(2.5\\%)}$ "
   ]
  },
  {
   "cell_type": "code",
   "execution_count": 21,
   "metadata": {
    "cell_id": "b4f210fb-4460-41ce-943d-2d9ac47ed544",
    "deepnote_cell_height": 130.1875,
    "deepnote_cell_type": "code",
    "deepnote_to_be_reexecuted": false,
    "execution_millis": 359,
    "execution_start": 1649429634589,
    "source_hash": "5c932fd5",
    "tags": []
   },
   "outputs": [
    {
     "name": "stdout",
     "output_type": "stream",
     "text": [
      "D(0,6m) =  0.9876543209876544\n"
     ]
    }
   ],
   "source": [
    "d1 = 1/(1+accrusal_frac*irs_data.IRS_rate[0])\n",
    "print(\"D(0,6m) = \", d1)"
   ]
  },
  {
   "cell_type": "markdown",
   "metadata": {
    "cell_id": "20d1863f-a86b-4b21-becf-053485480570",
    "deepnote_cell_height": 187.453125,
    "deepnote_cell_type": "markdown",
    "tags": []
   },
   "source": [
    "##### Bootstrapping D(0,1y)\n",
    "\n",
    "$PV_{fix} = PV_{flt}$  \n",
    "$D_o(0,6m) \\times \\triangle \\times 2.8\\% + D_o(0,1y) \\times \\triangle \\times 2.8\\% = D_o(0,6m) \\times \\triangle L_{6m} + D_o(0,1y) \\times \\triangle L(6m,1y)$  \n",
    "\n",
    "$\\implies \\triangle S_{1y}[D_o(0,6m) + D_o(0,1y)] = \\triangle [D_o(0,6m)L_{6m} + D_o(0,1y)L(6m,1y)]$\n",
    "\n",
    "$\\implies L(6m,1y) = \\frac {S_{1y} [D_o(0,6m) + D_o(0,1y)] - D_o(0,6m)L_{6m}}{D_o(0,1y)}$ "
   ]
  },
  {
   "cell_type": "code",
   "execution_count": 22,
   "metadata": {
    "cell_id": "4c025d55-4677-4359-b5f5-8d5af99bd2db",
    "deepnote_cell_height": 136.1875,
    "deepnote_cell_type": "code",
    "deepnote_output_heights": [
     21.1875
    ],
    "deepnote_to_be_reexecuted": false,
    "execution_millis": 358,
    "execution_start": 1649429634590,
    "source_hash": "25d64f40",
    "tags": []
   },
   "outputs": [
    {
     "data": {
      "text/plain": "0.031001496259351672"
     },
     "execution_count": 22,
     "metadata": {},
     "output_type": "execute_result"
    }
   ],
   "source": [
    "l1 = (irs_data.IRS_rate[1]*(ois_df.OIS_DF[0] + ois_df.OIS_DF[1]) - ois_df.OIS_DF[0]*irs_data.IRS_rate[0]) / ois_df.OIS_DF[1]\n",
    "l1"
   ]
  },
  {
   "cell_type": "markdown",
   "metadata": {
    "cell_id": "64015273-354b-4b7a-856d-5a77c7b14a99",
    "deepnote_cell_height": 132.203125,
    "deepnote_cell_type": "markdown",
    "tags": []
   },
   "source": [
    "Knowing that forward LIBOR rate is given as  \n",
    "\n",
    "$L(6m,1y) = \\frac{1}{\\triangle} \\frac{D(0,6m) - D(0,1y)}{D(0,1y)}$  \n",
    "\n",
    "$\\implies D(0,1y) = \\frac{D(0,6m)}{1 + \\triangle L(6m,1y)}$"
   ]
  },
  {
   "cell_type": "code",
   "execution_count": 23,
   "metadata": {
    "cell_id": "c4af50c4-7ee9-4e84-81d7-a74ab8dacb0b",
    "deepnote_cell_height": 130.1875,
    "deepnote_cell_type": "code",
    "deepnote_to_be_reexecuted": false,
    "execution_millis": 0,
    "execution_start": 1649429634627,
    "source_hash": "e3447921",
    "tags": []
   },
   "outputs": [
    {
     "name": "stdout",
     "output_type": "stream",
     "text": [
      "D(0,1y) =  0.9725786246900278\n"
     ]
    }
   ],
   "source": [
    "d2 = d1/(1 + accrusal_frac*l1)\n",
    "print(\"D(0,1y) = \", d2)"
   ]
  },
  {
   "cell_type": "markdown",
   "metadata": {
    "cell_id": "7a080133-ff82-4466-969f-fae372c4f9f4",
    "deepnote_cell_height": 147.171875,
    "deepnote_cell_type": "markdown",
    "tags": []
   },
   "source": [
    "##### Bootstrapping D(0,2y):\n",
    "$PV_{fix} = PV_{flt}$  \n",
    "\n",
    "$\\triangle 3\\% [D_o(0,6m) + D_o(0,1y) + D_o(0,1.5y) + D_o(0,2y)] = $\n",
    "$\\triangle [D_o(0,6m)L(0,6m) + D_o(0,1y)L(6m,1y) + D_o(0,1.5y)L(1y,1.5y) + D_o(0,2y)L(1.5y,2y)]$\n"
   ]
  },
  {
   "cell_type": "markdown",
   "metadata": {
    "cell_id": "818d747d-acd0-4a6d-8b7d-fede91ffc491",
    "deepnote_cell_height": 231.625,
    "deepnote_cell_type": "markdown",
    "tags": []
   },
   "source": [
    "- $L(1y,1.5y) = \\frac{1}{\\triangle} \\frac {D(0,1y) - D(0,1.5y)}{D(0,1.5y)}$\n",
    "- $D(0,1.5y) = \\frac{D(0,1y)+ D(0,2y)}{2}$\n",
    "\n",
    "$=> L(1y,1.5y) = \\frac{1}{\\triangle} \\frac {D(0,1y) - [0.5D(0,1y)+ 0.5D(0,2y)]}{0.5D(0,1y)+ 0.5D(0,2y)} = \\frac{1}{\\triangle} \\frac {0.5D(0,1y) - 0.5D(0,2y)]}{0.5D(0,1y)+ 0.5D(0,2y)} = \\frac{1}{\\triangle} \\frac {D(0,1y) - D(0,2y)]}{D(0,1y)+ D(0,2y)}$  \n",
    "\n",
    "- $L(1.5y,2y) = \\frac{1}{\\triangle} \\frac {D(0,1.5y) - D(0,2y)}{D(0,2y)}$\n",
    "- $D(0,1.5y) = \\frac{D(0,1y)+ D(0,2y)}{2}$\n",
    "\n",
    "$=> L(1.5y,2y) = \\frac{1}{\\triangle} \\frac {[0.5D(0,1y) + 0.5D(0,2y)] - D(0,2y)}{D(0,2y)} = \\frac{1}{\\triangle} \\frac {0.5[D(0,1y) - D(0,2y)]}{D(0,2y)}$"
   ]
  },
  {
   "cell_type": "code",
   "execution_count": 24,
   "metadata": {
    "cell_id": "d45fd69d-767e-43b7-9b6a-d3f2fd864e69",
    "deepnote_cell_height": 297,
    "deepnote_cell_type": "code",
    "deepnote_to_be_reexecuted": false,
    "execution_millis": 321,
    "execution_start": 1649429634627,
    "source_hash": "f54fe19d",
    "tags": []
   },
   "outputs": [],
   "source": [
    "def calculateInterpolatedDF(lw, rw, lhs, rhs, target_DF):\n",
    "\n",
    "    c = 1/accrusal_frac\n",
    "    tmp_semi_ois_df = semi_ois_df[2*lhs-1:2*rhs]\n",
    "    sum_RHS = 0 \n",
    "\n",
    "    for l in range(1, len(lw)):\n",
    "        lhs_intp_df = (lw[l-1]*libor_df[2*lhs-1] + rw[l-1]*target_DF)\n",
    "        rhs_intp_df = (lw[l]*libor_df[2*lhs-1] + rw[l]*target_DF)\n",
    "\n",
    "        sum_RHS += tmp_semi_ois_df[l-1]*c*((lhs_intp_df - rhs_intp_df)/rhs_intp_df)\n",
    "\n",
    "    return sum_RHS "
   ]
  },
  {
   "cell_type": "code",
   "execution_count": 25,
   "metadata": {
    "cell_id": "ef116782-00ec-4848-b30f-0abd0a0832de",
    "deepnote_cell_height": 639,
    "deepnote_cell_type": "code",
    "deepnote_to_be_reexecuted": false,
    "execution_millis": 2,
    "execution_start": 1649429634629,
    "source_hash": "8fa7d0a5",
    "tags": []
   },
   "outputs": [],
   "source": [
    "libor_df = [d1, d2]\n",
    "forward_libor = [irs_data.IRS_rate[0], l1]\n",
    "# print(libor_df); print(forward_libor)\n",
    "\n",
    "flt_sum = semi_ois_df[0]*forward_libor[0] + semi_ois_df[1]*forward_libor[1]\n",
    "\n",
    "for t in range(2,11):\n",
    "    # print(t)\n",
    "    idx = int(irs_data[\"Tenor\"][t])\n",
    "    pv_fix = irs_data.IRS_rate[t]*sum(semi_ois_df[:2*idx])\n",
    "\n",
    "    lw = []\n",
    "    rw = []\n",
    "\n",
    "    # For loop just to calculate weights in each interval\n",
    "    for x in np.arange(irs_data[\"Tenor\"][t-1], irs_data[\"Tenor\"][t]+0.5, 0.5):\n",
    "        # print(x)\n",
    "        LHS, RHS = int(irs_data[\"Tenor\"][t-1]), int(irs_data[\"Tenor\"][t])\n",
    "        left_weight, right_weight = interpolate(LHS, RHS, x)\n",
    "        # print(left_weight, right_weight)\n",
    "        lw.append(left_weight)\n",
    "        rw.append(right_weight)\n",
    "\n",
    "    tmp_df = brentq(lambda x: pv_fix - (flt_sum + calculateInterpolatedDF(lw, rw, LHS, RHS, x)), 1e-6, 1)\n",
    "    # print(tmp_df)\n",
    "\n",
    "    for l in range(1, len(lw)):\n",
    "        libor_df.append((lw[l]*libor_df[2*LHS-1] + rw[l]*tmp_df))\n",
    "\n",
    "    # print(libor_df)\n",
    "\n",
    "    flt_sum +=  calculateInterpolatedDF(lw, rw, LHS, RHS, libor_df[-1])"
   ]
  },
  {
   "cell_type": "code",
   "execution_count": 26,
   "metadata": {
    "cell_id": "3d600710-72a4-4f6a-933b-42b772cdd57d",
    "deepnote_cell_height": 118.1875,
    "deepnote_cell_type": "code",
    "deepnote_output_heights": [
     21.1875
    ],
    "deepnote_to_be_reexecuted": false,
    "execution_millis": 313,
    "execution_start": 1649429634635,
    "source_hash": "b4c09f1d",
    "tags": []
   },
   "outputs": [
    {
     "data": {
      "text/plain": "(60, [0.025, 0.031001496259351672])"
     },
     "execution_count": 26,
     "metadata": {},
     "output_type": "execute_result"
    }
   ],
   "source": [
    "len(libor_df), forward_libor"
   ]
  },
  {
   "cell_type": "code",
   "execution_count": 27,
   "metadata": {
    "cell_id": "a0d27d39-fd8d-42f1-88a3-efc3b0dbce7b",
    "deepnote_cell_height": 421,
    "deepnote_cell_type": "code",
    "deepnote_to_be_reexecuted": false,
    "execution_millis": 232,
    "execution_start": 1649429634716,
    "source_hash": "1e83611",
    "tags": []
   },
   "outputs": [
    {
     "data": {
      "text/plain": "   Tenor  LIBOR_DF  IRS_rate\n0    0.5  0.987654     0.025\n1    1.0  0.972579     0.028\n2    1.5  0.957406       NaN",
      "text/html": "<div>\n<style scoped>\n    .dataframe tbody tr th:only-of-type {\n        vertical-align: middle;\n    }\n\n    .dataframe tbody tr th {\n        vertical-align: top;\n    }\n\n    .dataframe thead th {\n        text-align: right;\n    }\n</style>\n<table border=\"1\" class=\"dataframe\">\n  <thead>\n    <tr style=\"text-align: right;\">\n      <th></th>\n      <th>Tenor</th>\n      <th>LIBOR_DF</th>\n      <th>IRS_rate</th>\n    </tr>\n  </thead>\n  <tbody>\n    <tr>\n      <th>0</th>\n      <td>0.5</td>\n      <td>0.987654</td>\n      <td>0.025</td>\n    </tr>\n    <tr>\n      <th>1</th>\n      <td>1.0</td>\n      <td>0.972579</td>\n      <td>0.028</td>\n    </tr>\n    <tr>\n      <th>2</th>\n      <td>1.5</td>\n      <td>0.957406</td>\n      <td>NaN</td>\n    </tr>\n  </tbody>\n</table>\n</div>"
     },
     "execution_count": 27,
     "metadata": {},
     "output_type": "execute_result"
    }
   ],
   "source": [
    "irs_df = pd.DataFrame()\n",
    "irs_df[\"Tenor\"] = np.arange(0.5, 30.5, 0.5)\n",
    "irs_df[\"LIBOR_DF\"] = libor_df\n",
    "\n",
    "irs_df = pd.merge(irs_df, irs_data, on=\"Tenor\", how=\"left\").drop([\"Product\", \"Rate\"], axis=1)\n",
    "\n",
    "irs_df.head(3)"
   ]
  },
  {
   "cell_type": "code",
   "execution_count": 28,
   "metadata": {
    "cell_id": "17bb0a94-d8e3-4869-9f1c-d38d2867b603",
    "deepnote_cell_height": 313,
    "deepnote_cell_type": "code",
    "deepnote_table_invalid": false,
    "deepnote_table_loading": false,
    "deepnote_table_state": {
     "filters": [],
     "pageIndex": 0,
     "pageSize": 100,
     "sortBy": []
    },
    "deepnote_to_be_reexecuted": false,
    "execution_millis": 231,
    "execution_start": 1649429634717,
    "source_hash": "e7679b3f",
    "tags": []
   },
   "outputs": [
    {
     "data": {
      "text/plain": "   Tenor  LIBOR_DF  IRS_rate\n0    0.5  0.987654     0.025\n1    1.0  0.972579     0.028\n2    1.5  0.957406       NaN",
      "text/html": "<div>\n<style scoped>\n    .dataframe tbody tr th:only-of-type {\n        vertical-align: middle;\n    }\n\n    .dataframe tbody tr th {\n        vertical-align: top;\n    }\n\n    .dataframe thead th {\n        text-align: right;\n    }\n</style>\n<table border=\"1\" class=\"dataframe\">\n  <thead>\n    <tr style=\"text-align: right;\">\n      <th></th>\n      <th>Tenor</th>\n      <th>LIBOR_DF</th>\n      <th>IRS_rate</th>\n    </tr>\n  </thead>\n  <tbody>\n    <tr>\n      <th>0</th>\n      <td>0.5</td>\n      <td>0.987654</td>\n      <td>0.025</td>\n    </tr>\n    <tr>\n      <th>1</th>\n      <td>1.0</td>\n      <td>0.972579</td>\n      <td>0.028</td>\n    </tr>\n    <tr>\n      <th>2</th>\n      <td>1.5</td>\n      <td>0.957406</td>\n      <td>NaN</td>\n    </tr>\n  </tbody>\n</table>\n</div>"
     },
     "execution_count": 28,
     "metadata": {},
     "output_type": "execute_result"
    }
   ],
   "source": [
    "irs_df.head(3)"
   ]
  },
  {
   "cell_type": "code",
   "execution_count": 29,
   "metadata": {
    "cell_id": "23a47275-cc55-436f-975c-4dcaec7f66cd",
    "deepnote_cell_height": 467,
    "deepnote_cell_type": "code",
    "deepnote_output_heights": [
     280
    ],
    "deepnote_to_be_reexecuted": false,
    "execution_millis": 221,
    "execution_start": 1649429634876,
    "source_hash": "eff8b2fb",
    "tags": []
   },
   "outputs": [
    {
     "data": {
      "text/plain": "<Figure size 432x288 with 1 Axes>",
      "image/png": "[encoded data removed]"
     },
     "metadata": {
      "needs_background": "light"
     },
     "output_type": "display_data"
    }
   ],
   "source": [
    "plt.plot(figsize=(24,16))\n",
    "plt.plot(irs_df[\"Tenor\"], irs_df[\"LIBOR_DF\"])\n",
    "plt.xlabel(\"Tenor, T\")\n",
    "plt.ylabel(\"IRS Discount Factor, D(0,T)\")\n",
    "plt.title(\"Bootstrapping IRS Discount Factor Curve\")\n",
    "plt.grid(linestyle='dotted')"
   ]
  },
  {
   "cell_type": "markdown",
   "metadata": {
    "cell_id": "688df180-c341-4408-95d8-088edb8a77c6",
    "deepnote_cell_height": 175.953125,
    "deepnote_cell_type": "markdown",
    "tags": []
   },
   "source": [
    "(3) Calculate the following forward swap rates: \n",
    "\n",
    "- 1y×1y, 1y×2y, 1y×3y, 1y×5y, 1y×10y\n",
    "- 5y×1y, 5y×2y, 5y×3y, 5y×5y, 5y×10y\n",
    "- 10y×1y, 10y×2y, 10y×3y, 10y×5y, 10y×10y\n",
    "\n",
    "Use linear interpolation on discount factors when necessary."
   ]
  },
  {
   "cell_type": "code",
   "execution_count": 30,
   "metadata": {
    "cell_id": "da3d2054302c42598767601ee6d3f994",
    "deepnote_cell_height": 349,
    "deepnote_cell_type": "code",
    "deepnote_table_loading": false,
    "deepnote_table_state": {
     "filters": [],
     "pageIndex": 0,
     "pageSize": 10,
     "sortBy": []
    },
    "deepnote_to_be_reexecuted": false,
    "execution_millis": 24,
    "execution_start": 1649429635146,
    "source_hash": "b271f8a3",
    "tags": []
   },
   "outputs": [
    {
     "data": {
      "text/plain": "   Tenor  LIBOR_DF  IRS_rate  OIS_rate    OIS_DF         f\n0    0.5  0.987654     0.025    0.0025  0.997506  0.004994\n1    1.0  0.972579     0.028    0.0030  0.997009  0.000997\n2    1.5  0.957406       NaN       NaN       NaN       NaN",
      "text/html": "<div>\n<style scoped>\n    .dataframe tbody tr th:only-of-type {\n        vertical-align: middle;\n    }\n\n    .dataframe tbody tr th {\n        vertical-align: top;\n    }\n\n    .dataframe thead th {\n        text-align: right;\n    }\n</style>\n<table border=\"1\" class=\"dataframe\">\n  <thead>\n    <tr style=\"text-align: right;\">\n      <th></th>\n      <th>Tenor</th>\n      <th>LIBOR_DF</th>\n      <th>IRS_rate</th>\n      <th>OIS_rate</th>\n      <th>OIS_DF</th>\n      <th>f</th>\n    </tr>\n  </thead>\n  <tbody>\n    <tr>\n      <th>0</th>\n      <td>0.5</td>\n      <td>0.987654</td>\n      <td>0.025</td>\n      <td>0.0025</td>\n      <td>0.997506</td>\n      <td>0.004994</td>\n    </tr>\n    <tr>\n      <th>1</th>\n      <td>1.0</td>\n      <td>0.972579</td>\n      <td>0.028</td>\n      <td>0.0030</td>\n      <td>0.997009</td>\n      <td>0.000997</td>\n    </tr>\n    <tr>\n      <th>2</th>\n      <td>1.5</td>\n      <td>0.957406</td>\n      <td>NaN</td>\n      <td>NaN</td>\n      <td>NaN</td>\n      <td>NaN</td>\n    </tr>\n  </tbody>\n</table>\n</div>"
     },
     "execution_count": 30,
     "metadata": {},
     "output_type": "execute_result"
    }
   ],
   "source": [
    "df_combined = pd.merge(irs_df, ois_df, on=\"Tenor\", how=\"left\")\n",
    "df_combined.drop(\"Rate\", axis = 1, inplace=True)\n",
    "df_combined.head(3)"
   ]
  },
  {
   "cell_type": "code",
   "execution_count": 31,
   "metadata": {
    "cell_id": "1f6f0d13-396d-4c87-88ae-73e3628adacf",
    "deepnote_cell_height": 654,
    "deepnote_cell_type": "code",
    "deepnote_to_be_reexecuted": false,
    "execution_millis": 88,
    "execution_start": 1649429635171,
    "source_hash": "c4e0a061",
    "tags": []
   },
   "outputs": [
    {
     "data": {
      "text/plain": "   Tenor  LIBOR_DF  IRS_rate  OIS_rate    OIS_DF         f\n0    0.5  0.987654     0.025    0.0025  0.997506  0.004994\n1    1.0  0.972579     0.028    0.0030  0.997009  0.000997\n2    1.5  0.957406       NaN       NaN  0.995270       NaN",
      "text/html": "<div>\n<style scoped>\n    .dataframe tbody tr th:only-of-type {\n        vertical-align: middle;\n    }\n\n    .dataframe tbody tr th {\n        vertical-align: top;\n    }\n\n    .dataframe thead th {\n        text-align: right;\n    }\n</style>\n<table border=\"1\" class=\"dataframe\">\n  <thead>\n    <tr style=\"text-align: right;\">\n      <th></th>\n      <th>Tenor</th>\n      <th>LIBOR_DF</th>\n      <th>IRS_rate</th>\n      <th>OIS_rate</th>\n      <th>OIS_DF</th>\n      <th>f</th>\n    </tr>\n  </thead>\n  <tbody>\n    <tr>\n      <th>0</th>\n      <td>0.5</td>\n      <td>0.987654</td>\n      <td>0.025</td>\n      <td>0.0025</td>\n      <td>0.997506</td>\n      <td>0.004994</td>\n    </tr>\n    <tr>\n      <th>1</th>\n      <td>1.0</td>\n      <td>0.972579</td>\n      <td>0.028</td>\n      <td>0.0030</td>\n      <td>0.997009</td>\n      <td>0.000997</td>\n    </tr>\n    <tr>\n      <th>2</th>\n      <td>1.5</td>\n      <td>0.957406</td>\n      <td>NaN</td>\n      <td>NaN</td>\n      <td>0.995270</td>\n      <td>NaN</td>\n    </tr>\n  </tbody>\n</table>\n</div>"
     },
     "execution_count": 31,
     "metadata": {},
     "output_type": "execute_result"
    }
   ],
   "source": [
    "df_combined[\"OIS_DF\"] = df_combined[\"OIS_DF\"].interpolate()\n",
    "# df_combined[\"Forward LIBOR\"] = df_combined[\"Forward LIBOR\"].interpolate()\n",
    "\n",
    "df_combined.head(3)"
   ]
  },
  {
   "cell_type": "code",
   "execution_count": 32,
   "metadata": {
    "cell_id": "449cb06e16ed4ab683618b7a0de2c645",
    "deepnote_cell_height": 467,
    "deepnote_cell_type": "code",
    "deepnote_to_be_reexecuted": false,
    "execution_millis": 65,
    "execution_start": 1649429635264,
    "source_hash": "aa906d26",
    "tags": []
   },
   "outputs": [
    {
     "data": {
      "text/plain": "   Tenor  LIBOR_DF  IRS_rate  OIS_rate    OIS_DF         f  Foward_LIBOR\n0    0.5  0.987654     0.025   0.00250  0.997506  0.004994      0.025000\n1    1.0  0.972579     0.028   0.00300  0.997009  0.000997      0.031001\n2    1.5  0.957406       NaN       NaN  0.995270       NaN           NaN\n3    2.0  0.942234     0.030   0.00325  0.993531  0.003495           NaN\n4    2.5  0.926412       NaN       NaN  0.991773       NaN           NaN",
      "text/html": "<div>\n<style scoped>\n    .dataframe tbody tr th:only-of-type {\n        vertical-align: middle;\n    }\n\n    .dataframe tbody tr th {\n        vertical-align: top;\n    }\n\n    .dataframe thead th {\n        text-align: right;\n    }\n</style>\n<table border=\"1\" class=\"dataframe\">\n  <thead>\n    <tr style=\"text-align: right;\">\n      <th></th>\n      <th>Tenor</th>\n      <th>LIBOR_DF</th>\n      <th>IRS_rate</th>\n      <th>OIS_rate</th>\n      <th>OIS_DF</th>\n      <th>f</th>\n      <th>Foward_LIBOR</th>\n    </tr>\n  </thead>\n  <tbody>\n    <tr>\n      <th>0</th>\n      <td>0.5</td>\n      <td>0.987654</td>\n      <td>0.025</td>\n      <td>0.00250</td>\n      <td>0.997506</td>\n      <td>0.004994</td>\n      <td>0.025000</td>\n    </tr>\n    <tr>\n      <th>1</th>\n      <td>1.0</td>\n      <td>0.972579</td>\n      <td>0.028</td>\n      <td>0.00300</td>\n      <td>0.997009</td>\n      <td>0.000997</td>\n      <td>0.031001</td>\n    </tr>\n    <tr>\n      <th>2</th>\n      <td>1.5</td>\n      <td>0.957406</td>\n      <td>NaN</td>\n      <td>NaN</td>\n      <td>0.995270</td>\n      <td>NaN</td>\n      <td>NaN</td>\n    </tr>\n    <tr>\n      <th>3</th>\n      <td>2.0</td>\n      <td>0.942234</td>\n      <td>0.030</td>\n      <td>0.00325</td>\n      <td>0.993531</td>\n      <td>0.003495</td>\n      <td>NaN</td>\n    </tr>\n    <tr>\n      <th>4</th>\n      <td>2.5</td>\n      <td>0.926412</td>\n      <td>NaN</td>\n      <td>NaN</td>\n      <td>0.991773</td>\n      <td>NaN</td>\n      <td>NaN</td>\n    </tr>\n  </tbody>\n</table>\n</div>"
     },
     "execution_count": 32,
     "metadata": {},
     "output_type": "execute_result"
    }
   ],
   "source": [
    "df_combined['Foward_LIBOR'] = np.NAN\n",
    "df_combined['Foward_LIBOR'][0] = irs_data.IRS_rate[0]\n",
    "df_combined['Foward_LIBOR'][1] =l1\n",
    "\n",
    "df_combined.head()"
   ]
  },
  {
   "cell_type": "code",
   "execution_count": 33,
   "metadata": {
    "cell_id": "fcbc779f3c7d41008eaffd4994abbf82",
    "deepnote_cell_height": 243,
    "deepnote_cell_type": "code",
    "deepnote_to_be_reexecuted": false,
    "execution_millis": 39,
    "execution_start": 1649429635335,
    "owner_user_id": "8d35e65c-5474-4a56-8a01-89b05ac66455",
    "source_hash": "a63544e",
    "tags": []
   },
   "outputs": [],
   "source": [
    "# while loop to solve forward LIBOR for each tenor\n",
    "i = 3\n",
    "while i <= 60:\n",
    "    h = i\n",
    "\n",
    "    for n in range(0,h-i+2): # Populate Forward LIBOR\n",
    "        df_combined['Foward_LIBOR'][i-1+n] = (df_combined['LIBOR_DF'][i-2+n]-df_combined['LIBOR_DF'][i-1+n]) /\\\n",
    "        (0.5*df_combined['LIBOR_DF'][i-1+n])\n",
    "\n",
    "    i = h+2 # increase by 1 year (0.5*2)"
   ]
  },
  {
   "cell_type": "code",
   "execution_count": 34,
   "metadata": {
    "cell_id": "6102b344259742ef9952a4190b22f56f",
    "deepnote_cell_height": 207,
    "deepnote_cell_type": "code",
    "deepnote_to_be_reexecuted": false,
    "execution_millis": 5,
    "execution_start": 1649429635460,
    "source_hash": "d29c6972",
    "tags": []
   },
   "outputs": [],
   "source": [
    "df_combined.rename(columns= {\"Tenor\": \"Tenor (year)\", \n",
    "                            \"LIBOR_DF\": \"LIBOR Discount Factor\", \n",
    "                            \"IRS_rate\": \"IRS Rate\", \n",
    "                            \"OIS_rate\": \"OIS Rate\", \n",
    "                            \"OIS_DF\": \"OIS Discount Factor\",\n",
    "                            \"f\": \"OIS Overnight Rate\",\n",
    "                            \"Foward_LIBOR\": \"Forward LIBOR\"}, \n",
    "                    inplace=True)"
   ]
  },
  {
   "cell_type": "code",
   "execution_count": 35,
   "metadata": {
    "cell_id": "057d6d07-34f6-472e-957f-f733dac5a40d",
    "deepnote_cell_height": 315,
    "deepnote_cell_type": "code",
    "deepnote_to_be_reexecuted": false,
    "execution_millis": 6,
    "execution_start": 1649429635467,
    "source_hash": "4ac4363e",
    "tags": []
   },
   "outputs": [],
   "source": [
    "def par_swap_rate_solver(start,duration):\n",
    "    end = start + duration\n",
    "    start_i = start*2 #find the start index\n",
    "    end_i = end*2-1 #find the end index\n",
    "    float_leg_sum = 0 # initialize\n",
    "    fix_discount_sum = 0 # initialize\n",
    "    while start_i <= end_i:\n",
    "        float_leg = df_combined['Forward LIBOR'][start_i]*0.5*df_combined['OIS Discount Factor'][start_i] # float leg value at each tenor\n",
    "        float_leg_sum += float_leg  \n",
    "        fix_discount = 0.5*df_combined['OIS Discount Factor'][start_i] #fix discount at each tenor * 0.5\n",
    "        fix_discount_sum += fix_discount\n",
    "        start_i += 1\n",
    "    par_swap_rate = float_leg_sum/fix_discount_sum # formula in the markdown\n",
    "    return par_swap_rate"
   ]
  },
  {
   "cell_type": "code",
   "execution_count": 36,
   "metadata": {
    "cell_id": "a531d10283db4a55b02838899ae9ead5",
    "deepnote_cell_height": 600,
    "deepnote_cell_type": "code",
    "deepnote_to_be_reexecuted": false,
    "execution_millis": 72,
    "execution_start": 1649429635492,
    "source_hash": "4902b7d6",
    "tags": []
   },
   "outputs": [
    {
     "data": {
      "text/plain": "   Tenor (year)  LIBOR Discount Factor  IRS Rate  OIS Rate  \\\n0           0.5               0.987654     0.025    0.0025   \n1           1.0               0.972579     0.028    0.0030   \n2           1.5               0.957406       NaN       NaN   \n\n   OIS Discount Factor  OIS Overnight Rate  Forward LIBOR  \n0             0.997506            0.004994       0.025000  \n1             0.997009            0.000997       0.031001  \n2             0.995270                 NaN       0.031695  ",
      "text/html": "<div>\n<style scoped>\n    .dataframe tbody tr th:only-of-type {\n        vertical-align: middle;\n    }\n\n    .dataframe tbody tr th {\n        vertical-align: top;\n    }\n\n    .dataframe thead th {\n        text-align: right;\n    }\n</style>\n<table border=\"1\" class=\"dataframe\">\n  <thead>\n    <tr style=\"text-align: right;\">\n      <th></th>\n      <th>Tenor (year)</th>\n      <th>LIBOR Discount Factor</th>\n      <th>IRS Rate</th>\n      <th>OIS Rate</th>\n      <th>OIS Discount Factor</th>\n      <th>OIS Overnight Rate</th>\n      <th>Forward LIBOR</th>\n    </tr>\n  </thead>\n  <tbody>\n    <tr>\n      <th>0</th>\n      <td>0.5</td>\n      <td>0.987654</td>\n      <td>0.025</td>\n      <td>0.0025</td>\n      <td>0.997506</td>\n      <td>0.004994</td>\n      <td>0.025000</td>\n    </tr>\n    <tr>\n      <th>1</th>\n      <td>1.0</td>\n      <td>0.972579</td>\n      <td>0.028</td>\n      <td>0.0030</td>\n      <td>0.997009</td>\n      <td>0.000997</td>\n      <td>0.031001</td>\n    </tr>\n    <tr>\n      <th>2</th>\n      <td>1.5</td>\n      <td>0.957406</td>\n      <td>NaN</td>\n      <td>NaN</td>\n      <td>0.995270</td>\n      <td>NaN</td>\n      <td>0.031695</td>\n    </tr>\n  </tbody>\n</table>\n</div>"
     },
     "execution_count": 36,
     "metadata": {},
     "output_type": "execute_result"
    }
   ],
   "source": [
    "df_combined.head(3)"
   ]
  },
  {
   "cell_type": "code",
   "execution_count": 37,
   "metadata": {
    "cell_id": "f0faf2f3-1f7c-4572-b5c1-f0c29507cf5b",
    "deepnote_cell_height": 99,
    "deepnote_cell_type": "code",
    "deepnote_to_be_reexecuted": false,
    "execution_millis": 4,
    "execution_start": 1649429635565,
    "source_hash": "b248168b",
    "tags": []
   },
   "outputs": [],
   "source": [
    "df_combined.to_csv('df_comb.csv',sep=',')\n"
   ]
  },
  {
   "cell_type": "code",
   "execution_count": 38,
   "metadata": {
    "allow_embed": false,
    "cell_id": "cda4a29c1b8c45aea6b7628db71e075a",
    "deepnote_cell_height": 701,
    "deepnote_cell_type": "code",
    "deepnote_to_be_reexecuted": false,
    "execution_millis": 3,
    "execution_start": 1649429635592,
    "source_hash": "6fcfc7db",
    "tags": []
   },
   "outputs": [],
   "source": [
    "# print(df_combined)"
   ]
  },
  {
   "cell_type": "code",
   "execution_count": 39,
   "metadata": {
    "cell_id": "378cb0a6-0c2b-49af-8d79-87b1ca278cd9",
    "deepnote_cell_height": 135,
    "deepnote_cell_type": "code",
    "deepnote_output_heights": [
     607
    ],
    "deepnote_to_be_reexecuted": false,
    "execution_millis": 1,
    "execution_start": 1649429635638,
    "source_hash": "a8eb92b4",
    "tags": []
   },
   "outputs": [],
   "source": [
    "df_FowardSwap = pd.DataFrame([['1Y','1Y',par_swap_rate_solver(1,1)],['1Y','2Y',par_swap_rate_solver(1,2)],['1Y','3Y',par_swap_rate_solver(1,3)],['1Y','5Y',par_swap_rate_solver(1,5)],['1Y','10Y',par_swap_rate_solver(1,10)],\\\n",
    "                             ['5Y','1Y',par_swap_rate_solver(5,1)],['5Y','2Y',par_swap_rate_solver(5,2)],['5Y','3Y',par_swap_rate_solver(5,3)],['5Y','5Y',par_swap_rate_solver(5,5)],['5Y','10Y',par_swap_rate_solver(5,10)],\\\n",
    "                            ['10Y','1Y',par_swap_rate_solver(10,1)],['10Y','2Y',par_swap_rate_solver(10,2)],['10Y','3Y',par_swap_rate_solver(10,3)],['10Y','5Y',par_swap_rate_solver(10,5)],['10Y','10Y',par_swap_rate_solver(10,10)]],\\\n",
    "                            columns=['Expiry','Tenor','Swap_Rate'])"
   ]
  },
  {
   "cell_type": "code",
   "execution_count": 40,
   "metadata": {
    "cell_id": "41a3c5a2-eab9-4cbb-9188-ae6b71266464",
    "deepnote_cell_height": 805,
    "deepnote_cell_type": "code",
    "deepnote_table_loading": false,
    "deepnote_table_state": {
     "filters": [],
     "pageIndex": 0,
     "pageSize": 100,
     "sortBy": []
    },
    "deepnote_to_be_reexecuted": false,
    "execution_millis": 3,
    "execution_start": 1649429635649,
    "source_hash": "b3ae9374",
    "tags": []
   },
   "outputs": [
    {
     "data": {
      "text/plain": "  Expiry Tenor  Swap_Rate\n0     1Y    1Y   0.031950\n1     1Y    2Y   0.033200\n2     1Y    3Y   0.033947\n3     1Y    5Y   0.035184\n4     1Y   10Y   0.038335",
      "text/html": "<div>\n<style scoped>\n    .dataframe tbody tr th:only-of-type {\n        vertical-align: middle;\n    }\n\n    .dataframe tbody tr th {\n        vertical-align: top;\n    }\n\n    .dataframe thead th {\n        text-align: right;\n    }\n</style>\n<table border=\"1\" class=\"dataframe\">\n  <thead>\n    <tr style=\"text-align: right;\">\n      <th></th>\n      <th>Expiry</th>\n      <th>Tenor</th>\n      <th>Swap_Rate</th>\n    </tr>\n  </thead>\n  <tbody>\n    <tr>\n      <th>0</th>\n      <td>1Y</td>\n      <td>1Y</td>\n      <td>0.031950</td>\n    </tr>\n    <tr>\n      <th>1</th>\n      <td>1Y</td>\n      <td>2Y</td>\n      <td>0.033200</td>\n    </tr>\n    <tr>\n      <th>2</th>\n      <td>1Y</td>\n      <td>3Y</td>\n      <td>0.033947</td>\n    </tr>\n    <tr>\n      <th>3</th>\n      <td>1Y</td>\n      <td>5Y</td>\n      <td>0.035184</td>\n    </tr>\n    <tr>\n      <th>4</th>\n      <td>1Y</td>\n      <td>10Y</td>\n      <td>0.038335</td>\n    </tr>\n  </tbody>\n</table>\n</div>"
     },
     "execution_count": 40,
     "metadata": {},
     "output_type": "execute_result"
    }
   ],
   "source": [
    "df_FowardSwap.head()"
   ]
  },
  {
   "cell_type": "code",
   "execution_count": 41,
   "metadata": {
    "cell_id": "8dd2a6f68f0f438aa6cabd8df6fcb984",
    "deepnote_cell_height": 81,
    "deepnote_cell_type": "code",
    "deepnote_to_be_reexecuted": false,
    "execution_millis": 8,
    "execution_start": 1649429959902,
    "source_hash": "21dca719",
    "tags": []
   },
   "outputs": [],
   "source": [
    "df_FowardSwap[\"color\"] = [1, 1, 1, 1, 1, 5, 5, 5, 5, 5, 10, 10, 10, 10, 10]"
   ]
  },
  {
   "cell_type": "code",
   "execution_count": 42,
   "metadata": {
    "cell_id": "7cf913f72b6740a2b39ef80b2eb2c400",
    "deepnote_cell_height": 81,
    "deepnote_cell_type": "code",
    "deepnote_to_be_reexecuted": false,
    "execution_millis": 5,
    "execution_start": 1649431322616,
    "source_hash": "1ed3aede",
    "tags": []
   },
   "outputs": [],
   "source": [
    "df_FowardSwap['Expiry'] = df_FowardSwap['Expiry'].astype(str)"
   ]
  },
  {
   "cell_type": "code",
   "execution_count": 43,
   "metadata": {
    "cell_id": "f5767830317844fe906975543aebc745",
    "deepnote_cell_height": 622.1875,
    "deepnote_cell_type": "code",
    "deepnote_output_heights": [
     280,
     313,
     280
    ],
    "deepnote_to_be_reexecuted": false,
    "execution_millis": 413,
    "execution_start": 1649431841474,
    "source_hash": "70e18d10",
    "tags": []
   },
   "outputs": [
    {
     "name": "stderr",
     "output_type": "stream",
     "text": [
      "No artists with labels found to put in legend.  Note that artists whose label start with an underscore are ignored when legend() is called with no argument.\n"
     ]
    },
    {
     "data": {
      "text/plain": "<Figure size 432x288 with 1 Axes>",
      "image/png": "[encoded data removed]"
     },
     "metadata": {
      "needs_background": "light"
     },
     "output_type": "display_data"
    }
   ],
   "source": [
    "plt.plot(figsize=(24,16))\n",
    "plt.scatter(df_FowardSwap.Tenor, df_FowardSwap.Swap_Rate, c=df_FowardSwap.color)\n",
    "plt.xlabel(\"Tenor\")\n",
    "plt.ylabel(\"Swap Rate\")\n",
    "plt.suptitle(\"Swap Rate across different Tenor and Expiry\", y=1.05, fontsize=18)\n",
    "plt.title(\"Label for Expiry: Yellow = 10Y, Blue = 5Y, Purple = 1Y\")\n",
    "\n",
    "plt.grid(linestyle='--')\n",
    "plt.legend()\n",
    "plt.show()"
   ]
  },
  {
   "cell_type": "code",
   "execution_count": 44,
   "metadata": {
    "cell_id": "fd08c27c-d965-4dc6-a85f-cc1efaef39a8",
    "deepnote_cell_height": 81,
    "deepnote_cell_type": "code",
    "deepnote_to_be_reexecuted": false,
    "execution_millis": 4,
    "execution_start": 1649429635761,
    "owner_user_id": "455f159c-ba05-441c-9df3-39f78ba606fc",
    "source_hash": "98dff763",
    "tags": []
   },
   "outputs": [],
   "source": [
    "df_FowardSwap.to_csv('df_ForwardSwap.csv',sep=',')"
   ]
  }
 ],
 "metadata": {
  "deepnote": {
   "is_reactive": false
  },
  "deepnote_execution_queue": [],
  "deepnote_notebook_id": "2e726e28-b676-4184-8fd5-dcf5ffce1ec4",
  "kernelspec": {
   "display_name": "Python 3",
   "language": "python",
   "name": "python3"
  },
  "language_info": {
   "codemirror_mode": {
    "name": "ipython",
    "version": 3
   },
   "file_extension": ".py",
   "mimetype": "text/x-python",
   "name": "python",
   "nbconvert_exporter": "python",
   "pygments_lexer": "ipython3",
   "version": "3.8.3"
  }
 },
 "nbformat": 4,
 "nbformat_minor": 2
}