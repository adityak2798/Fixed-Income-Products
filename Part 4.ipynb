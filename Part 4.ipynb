{
 "cells": [
  {
   "cell_type": "markdown",
   "source": [
    "# Part IV - Decompounded Options"
   ],
   "metadata": {
    "cell_id": "1c4463b3-1f19-4280-8796-1ac3307f200e",
    "tags": [],
    "is_collapsed": false,
    "deepnote_cell_type": "text-cell-h1"
   }
  },
  {
   "cell_type": "markdown",
   "source": [
    "#### Question 1"
   ],
   "metadata": {
    "cell_id": "5b8e5129c03347529f237de1c9d68a8d",
    "tags": [],
    "deepnote_cell_type": "markdown",
    "deepnote_cell_height": 54
   }
  },
  {
   "cell_type": "markdown",
   "source": [
    "A decompounded option pays the following at time T = 5y:  \n",
    "\n",
    "CMS $10y^{1/p}$ - $0.04^{1/q}$\n",
    "\n",
    "where p = 4 and q = 2. Use static replication to value the PV of this payoff."
   ],
   "metadata": {
    "cell_id": "642ea9fb-5547-41f3-af5a-ad46bc1b9f7d",
    "tags": [],
    "deepnote_cell_type": "markdown",
    "deepnote_cell_height": 125.171875
   }
  },
  {
   "cell_type": "markdown",
   "source": [
    "$g(F) = F^{\\frac{1}{4}} - 0.2 \\ \\ \\ \\ \\ \\ g'(F) = \\frac{1}{4}F^{-\\frac{3}{4}} \\ \\ \\ \\ \\ \\ \\ g''(F) = -\\frac{3}{16}F^{-\\frac{7}{4}}$ \n",
    "\n",
    "$ h(K) = \\frac{g(K)}{IRR(K)}$ <br><br>\n",
    "$ h'(K) = \\frac{IRR(K)g'(K) - g(K)IRR'(K)}{IRR(K)^2}$<br><br>\n",
    "$ h''(K) = \\frac{IRR(K)g''(K) - IRR''(K)g(K) - 2 * IRR'(K)g'(K)}{IRR(K)^2} +\\frac{2*IRR'(K)^2g(K)}{IRR(K)^3}$"
   ],
   "metadata": {
    "cell_id": "b3e322cf-d23b-48cd-910f-89e1d710c5c3",
    "tags": [],
    "deepnote_to_be_reexecuted": false,
    "source_hash": "d215c562",
    "execution_start": 1649002557116,
    "execution_millis": 11,
    "deepnote_cell_type": "markdown",
    "deepnote_cell_height": 191.65625
   }
  },
  {
   "cell_type": "code",
   "metadata": {
    "tags": [],
    "cell_id": "9011896e-628d-45b1-a83d-5a39a8dda31d",
    "deepnote_to_be_reexecuted": false,
    "source_hash": "b174d29d",
    "execution_start": 1649431010041,
    "execution_millis": 2424,
    "deepnote_cell_type": "code",
    "deepnote_cell_height": 189
   },
   "source": [
    "import pandas as pd\n",
    "import numpy as np\n",
    "import matplotlib.pyplot as plt\n",
    "from scipy.stats import norm\n",
    "from scipy import interpolate\n",
    "from math import log, sqrt, exp\n",
    "from scipy import integrate"
   ],
   "execution_count": 1,
   "outputs": []
  },
  {
   "cell_type": "markdown",
   "source": [
    "#### Import data files"
   ],
   "metadata": {
    "cell_id": "92867fbc54e54b1ca08ad15283e059c6",
    "tags": [],
    "deepnote_cell_type": "markdown",
    "deepnote_cell_height": 54
   }
  },
  {
   "cell_type": "code",
   "metadata": {
    "cell_id": "fcd911ba-c8e4-413c-9d2b-df9bb7ede795",
    "tags": [],
    "deepnote_to_be_reexecuted": false,
    "source_hash": "5c25d399",
    "execution_start": 1649431012484,
    "execution_millis": 22,
    "owner_user_id": "455f159c-ba05-441c-9df3-39f78ba606fc",
    "deepnote_cell_type": "code",
    "deepnote_cell_height": 261
   },
   "source": [
    "data_FS = pd.read_csv('df_ForwardSwap.csv', header = 0, index_col = 0)  \n",
    "data_DF = pd.read_csv('df_comb.csv', header = 0, index_col = 0)  \n",
    "data_SABR_Alpha=pd.read_csv('SABR_Alpha.csv', header = 0, index_col = 0)\n",
    "data_SABR_Alpha=data_SABR_Alpha.drop(data_SABR_Alpha.index[[0,1]])\n",
    "data_SABR_Alpha.columns=[1,2,3,5,10]\n",
    "data_SABR_Nu=pd.read_csv('SABR_Nu.csv', header = 0, index_col = 0)\n",
    "data_SABR_Nu=data_SABR_Nu.drop(data_SABR_Nu.index[[0,1]])\n",
    "data_SABR_Nu.columns=[1,2,3,5,10]\n",
    "data_SABR_Rho=pd.read_csv('SABR_Rho.csv', header = 0, index_col = 0)\n",
    "data_SABR_Rho=data_SABR_Rho.drop(data_SABR_Rho.index[[0,1]])\n",
    "data_SABR_Rho.columns=[1,2,3,5,10]"
   ],
   "execution_count": 2,
   "outputs": []
  },
  {
   "cell_type": "code",
   "metadata": {
    "cell_id": "a19f44fb5ba74386acde6a246c087466",
    "tags": [],
    "deepnote_to_be_reexecuted": false,
    "source_hash": "93b2cffd",
    "execution_start": 1649431012538,
    "execution_millis": 22,
    "deepnote_cell_type": "code",
    "deepnote_cell_height": 313
   },
   "source": [
    "data_SABR_Rho"
   ],
   "execution_count": 3,
   "outputs": [
    {
     "data": {
      "text/plain": "          1         2         3         5         10\n1  -0.632628 -0.524618 -0.482388 -0.413979 -0.264429\n5  -0.584666 -0.546609 -0.549566 -0.511825 -0.435195\n10 -0.546160 -0.544090 -0.549840 -0.563144 -0.506740",
      "text/html": "<div>\n<style scoped>\n    .dataframe tbody tr th:only-of-type {\n        vertical-align: middle;\n    }\n\n    .dataframe tbody tr th {\n        vertical-align: top;\n    }\n\n    .dataframe thead th {\n        text-align: right;\n    }\n</style>\n<table border=\"1\" class=\"dataframe\">\n  <thead>\n    <tr style=\"text-align: right;\">\n      <th></th>\n      <th>1</th>\n      <th>2</th>\n      <th>3</th>\n      <th>5</th>\n      <th>10</th>\n    </tr>\n  </thead>\n  <tbody>\n    <tr>\n      <th>1</th>\n      <td>-0.632628</td>\n      <td>-0.524618</td>\n      <td>-0.482388</td>\n      <td>-0.413979</td>\n      <td>-0.264429</td>\n    </tr>\n    <tr>\n      <th>5</th>\n      <td>-0.584666</td>\n      <td>-0.546609</td>\n      <td>-0.549566</td>\n      <td>-0.511825</td>\n      <td>-0.435195</td>\n    </tr>\n    <tr>\n      <th>10</th>\n      <td>-0.546160</td>\n      <td>-0.544090</td>\n      <td>-0.549840</td>\n      <td>-0.563144</td>\n      <td>-0.506740</td>\n    </tr>\n  </tbody>\n</table>\n</div>"
     },
     "execution_count": 3,
     "metadata": {},
     "output_type": "execute_result"
    }
   ]
  },
  {
   "cell_type": "markdown",
   "source": [
    "#### Define Black and SABR functions"
   ],
   "metadata": {
    "cell_id": "db2d07e217e3441689eda0e8b2391ea4",
    "tags": [],
    "deepnote_cell_type": "markdown",
    "deepnote_cell_height": 54
   }
  },
  {
   "cell_type": "code",
   "metadata": {
    "cell_id": "c278ec0b-f7d3-4395-8443-4ae6160c3980",
    "tags": [],
    "deepnote_to_be_reexecuted": false,
    "source_hash": "1e3f4669",
    "execution_start": 1649431012575,
    "execution_millis": 2,
    "deepnote_cell_type": "code",
    "deepnote_cell_height": 603
   },
   "source": [
    "def Black76Lognormal(F, K, r, sigma, T, opt):\n",
    "    d1 = (log(F/K)+(sigma*sigma/2)*T)/(sigma*sqrt(T))\n",
    "    d2 = d1-sigma*sqrt(T)\n",
    "    if opt == 'Call':\n",
    "        return F*exp(-r*T)*norm.cdf(d1) - K*exp(-r*T)*norm.cdf(d2)\n",
    "    elif opt == 'Put':\n",
    "        return K*exp(-r*T)*norm.cdf(-d2) - F*exp(-r*T)*norm.cdf(-d1)\n",
    "\n",
    "def SABR(F, K, T, alpha, beta, rho, nu):\n",
    "    X = K\n",
    "    # if K is at-the-money-forward\n",
    "    if abs(F - K) < 1e-12:\n",
    "        numer1 = (((1 - beta)**2)/24)*alpha*alpha/(F**(2 - 2*beta))\n",
    "        numer2 = 0.25*rho*beta*nu*alpha/(F**(1 - beta))\n",
    "        numer3 = ((2 - 3*rho*rho)/24)*nu*nu\n",
    "        VolAtm = alpha*(1 + (numer1 + numer2 + numer3)*T)/(F**(1-beta))\n",
    "        sabrsigma = VolAtm\n",
    "    else:\n",
    "        z = (nu/alpha)*((F*X)**(0.5*(1-beta)))*log(F/X)\n",
    "        zhi = log((((1 - 2*rho*z + z*z)**0.5) + z - rho)/(1 - rho))\n",
    "        numer1 = (((1 - beta)**2)/24)*((alpha*alpha)/((F*X)**(1 - beta)))\n",
    "        numer2 = 0.25*rho*beta*nu*alpha/((F*X)**((1 - beta)/2))\n",
    "        numer3 = ((2 - 3*rho*rho)/24)*nu*nu\n",
    "        numer = alpha*(1 + (numer1 + numer2 + numer3)*T)*z\n",
    "        denom1 = ((1 - beta)**2/24)*(log(F/X))**2\n",
    "        denom2 = (((1 - beta)**4)/1920)*((log(F/X))**4)\n",
    "        denom = ((F*X)**((1 - beta)/2))*(1 + denom1 + denom2)*zhi\n",
    "        sabrsigma = numer/denom\n",
    "\n",
    "    return sabrsigma"
   ],
   "execution_count": 4,
   "outputs": []
  },
  {
   "cell_type": "markdown",
   "source": [
    "#### Define IRR Functions"
   ],
   "metadata": {
    "cell_id": "f0f1a13a977740f989b9604bb5d1ab90",
    "tags": [],
    "deepnote_cell_type": "markdown",
    "deepnote_cell_height": 54
   }
  },
  {
   "cell_type": "markdown",
   "source": [
    "Let $m$ denote the payment frequenc ($m=2$ for semi-annual payment frequency), and let $N$ denote the tenor of the swap (number of years), the partial derivatives on the IRR function $\\mbox{IRR}(S)$ given by:\n",
    "\\begin{equation*}\n",
    "\\begin{split}\n",
    "\\mbox{IRR}(K)&=\\sum_{i=1}^{N\\times m}\\frac{1}{(1+\\frac{K}{m})^i}=\\frac{1}{K}\\left[1-\\frac{1}{\\left(1+\\frac{K}{m}\\right)^{N\\times m}}\\right]\\\\\n",
    "\\mbox{IRR}'(K)&=-\\frac{1}{K}\\mbox{IRR}(K)\n",
    "+\\frac{1}{m\\times K}\\frac{N\\times m}{\\left(1+\\frac{K}{m}\\right)^{N\\times m+1}} \\\\\n",
    "\\mbox{IRR}''(K)&=-\\frac{2}{K}\\mbox{IRR}'(K)\n",
    "-\\frac{1}{m^2\\times K}\\frac{N\\times m\\cdot (N\\times m+1)}{\\left(1+\\frac{K}{m}\\right)^{N\\times m+2}} \\\\\n",
    "\\end{split}\n",
    "\\end{equation*}\n",
    "\n",
    "These results will need to be generalised to handle the case for $m=2$ to be consistent with the semi-annual payment frequency swap market data provided."
   ],
   "metadata": {
    "cell_id": "5e24d899-39f4-4e1c-9c14-5a741bb87bc7",
    "tags": [],
    "deepnote_cell_type": "markdown",
    "deepnote_cell_height": 304.296875
   }
  },
  {
   "cell_type": "code",
   "metadata": {
    "cell_id": "f39181af-7563-4d6c-8b89-3ff85f26af23",
    "tags": [],
    "deepnote_to_be_reexecuted": false,
    "source_hash": "ff372633",
    "execution_start": 1649431012588,
    "execution_millis": 43,
    "deepnote_cell_type": "code",
    "deepnote_cell_height": 315
   },
   "source": [
    "def IRR_0(K, m, N):\n",
    "    # implementation of IRR(K) function\n",
    "    value = 1/K * ( 1.0 - 1/(1 + K/m)**(N*m) )\n",
    "    return value\n",
    "\n",
    "def IRR_1(K, m, N):\n",
    "    # implementation of IRR'(K) function (1st derivative)\n",
    "    firstDerivative = -1/K*IRR_0(K, m, N) + 1/(K*m)*N*m/(1+K/m)**(N*m+1)\n",
    "    return firstDerivative\n",
    "\n",
    "def IRR_2(K, m, N):\n",
    "    # implementation of IRR''(K) function (2nd derivative)\n",
    "    secondDerivative = -2/K*IRR_1(K, m, N) - 1/(K*m*m)*(N*m)*(N*m+1)/(1+K/m)**(N*m+2)\n",
    "    return secondDerivative"
   ],
   "execution_count": 5,
   "outputs": []
  },
  {
   "cell_type": "code",
   "metadata": {
    "cell_id": "a0c9023c-e149-40ce-8ee1-c1561d05f947",
    "tags": [],
    "deepnote_to_be_reexecuted": false,
    "source_hash": "8e2bdaec",
    "execution_start": 1649431012631,
    "execution_millis": 0,
    "deepnote_cell_type": "code",
    "deepnote_cell_height": 513
   },
   "source": [
    "#define payoff functions g(x) and h(x)\n",
    "def g_0(K):\n",
    "    return K**(1/4) - 0.2\n",
    "\n",
    "def g_1(K):\n",
    "    return (1/4)*(K)**(-3/4)\n",
    "\n",
    "def g_2(K):\n",
    "    return (-3/16)*(K)**(-7/4)\n",
    "\n",
    "def h_0(K, m, N):\n",
    "    # implementation of h(K)\n",
    "    value = g_0(K) / IRR_0(K, m, N)\n",
    "    return value\n",
    "\n",
    "def h_1(K, m, N):\n",
    "    # implementation of h'(K) (1st derivative)\n",
    "    firstDerivative = (IRR_0(K, m, N)*g_1(K) - g_0(K)*IRR_1(K, m, N)) / IRR_0(K, m, N)**2\n",
    "    return firstDerivative\n",
    "\n",
    "def h_2(K, m, N):\n",
    "    # implementation of h''(K) (2nd derivative)\n",
    "    secondDerivative = ((IRR_0(K, m, N)*g_2(K) - IRR_2(K, m, N)*g_0(K) - 2.0*IRR_1(K, m, N)*g_1(K))/IRR_0(K, m, N)**2 \n",
    "                        + 2.0*IRR_1(K, m, N)**2*g_0(K)/IRR_0(K, m, N)**3)\n",
    "    return secondDerivative"
   ],
   "execution_count": 6,
   "outputs": []
  },
  {
   "cell_type": "markdown",
   "source": [
    "$ V_0  = D(0,T)g(F) + \\int_0^F h''(K)V^{rec}(K)dK + \\int_F^\\infty h''(K)V^{pay}(K)dK $"
   ],
   "metadata": {
    "cell_id": "d64d122b8a504a878e3b53560859582f",
    "tags": [],
    "deepnote_cell_type": "markdown",
    "deepnote_cell_height": 53.953125
   }
  },
  {
   "cell_type": "code",
   "metadata": {
    "cell_id": "0f3300f8ff22473fb653b78bfd90e209",
    "tags": [],
    "deepnote_to_be_reexecuted": false,
    "source_hash": "867b74b9",
    "execution_start": 1649431012674,
    "execution_millis": 945,
    "deepnote_cell_type": "code",
    "deepnote_cell_height": 561.3125
   },
   "source": [
    "F = data_FS.loc[9, 'Swap_Rate']   # this is 5y x 10y forward swap rate\n",
    "D = data_DF.loc[9, 'OIS Discount Factor']     # this is OIS discount factor D(0, 5y)\n",
    "\n",
    "alpha = data_SABR_Alpha.iloc[1, 4] # this is alpha parameter for 5y x 10y forward swap\n",
    "beta = 0.9                        # this is pre-determined beta at 0.9\n",
    "rho = data_SABR_Rho.iloc[1, 4]    # this is rho parameter for 5y x 10y forward swap\n",
    "nu = data_SABR_Nu.iloc[1, 4]     # this is nu parameter for 5y x 10y forward swap\n",
    "\n",
    "\n",
    "M = 2\n",
    "N = 10\n",
    "T = 5\n",
    "\n",
    "V_rec = integrate.quad(lambda x: h_2(x, M, N)*Black76Lognormal(F, x, 0, SABR(F, x, T, alpha, 0.9, rho, nu),T, \"Put\"),\n",
    "                                                    0,F)\n",
    "V_pay = integrate.quad(lambda x: h_2(x, M, N)*Black76Lognormal(F, x, 0, SABR(F, x, T, alpha, 0.9, rho, nu),T, \"Call\"),\n",
    "                                                    F,1000)\n",
    "                                                   \n",
    "PVoption = D * g_0(F) + V_rec[0] + V_pay[0]"
   ],
   "execution_count": 7,
   "outputs": [
    {
     "name": "stderr",
     "output_type": "stream",
     "text": [
      "/tmp/ipykernel_36200/2891964737.py:14: IntegrationWarning: The maximum number of subdivisions (50) has been achieved.\n",
      "  If increasing the limit yields no improvement it is advised to analyze \n",
      "  the integrand in order to determine the difficulties.  If the position of a \n",
      "  local difficulty can be determined (singularity, discontinuity) one will \n",
      "  probably gain from splitting up the interval and calling the integrator \n",
      "  on the subranges.  Perhaps a special-purpose integrator should be used.\n",
      "  V_rec = integrate.quad(lambda x: h_2(x, M, N)*Black76Lognormal(F, x, 0, SABR(F, x, T, alpha, 0.9, rho, nu),T, \"Put\"),\n"
     ]
    }
   ]
  },
  {
   "cell_type": "code",
   "metadata": {
    "cell_id": "9f5df908c089460f8b1b10588404795c",
    "tags": [],
    "deepnote_to_be_reexecuted": false,
    "source_hash": "3eba5375",
    "execution_start": 1649431013625,
    "execution_millis": 7,
    "deepnote_cell_type": "code",
    "deepnote_cell_height": 112.1875
   },
   "source": [
    "print (\"The PV of this option using static replication is:\",PVoption )"
   ],
   "execution_count": 8,
   "outputs": [
    {
     "name": "stdout",
     "output_type": "stream",
     "text": [
      "The PV of this option using static replication is: 0.2495412082099216\n"
     ]
    }
   ]
  },
  {
   "cell_type": "markdown",
   "source": [
    "#### Question 2"
   ],
   "metadata": {
    "cell_id": "2ac43c8723b841f0a282355d6295816a",
    "tags": [],
    "deepnote_cell_type": "markdown",
    "deepnote_cell_height": 54
   }
  },
  {
   "cell_type": "markdown",
   "source": [
    "(2) Supose the payoff is now  \n",
    "\n",
    "(CMS $10y^{1/p}$ - $0.04^{1/q}$)$^+$\n",
    "\n",
    "Use static replication to value the PV of this payoff."
   ],
   "metadata": {
    "cell_id": "8d456e4fb01e4b6fb85b883e2e949422",
    "tags": [],
    "deepnote_cell_type": "markdown",
    "deepnote_cell_height": 125.171875
   }
  },
  {
   "cell_type": "markdown",
   "source": [
    "$F^\\frac{1}{4} > 0.2$<br>\n",
    "$F > 0.2^4$<br>\n",
    "$F > 0.0016 = L$\n",
    "$CMS\\ Caplet = h'(L)V^{pay}(L) + \\int^{\\infty}_Lh''(K)V^{pay}(K)dK$"
   ],
   "metadata": {
    "cell_id": "36f8c6c5718a41eaba9eb7af92ee9ace",
    "tags": [],
    "deepnote_to_be_reexecuted": false,
    "source_hash": "df3ca0ae",
    "execution_start": 1649003590973,
    "execution_millis": 2,
    "deepnote_cell_type": "markdown",
    "deepnote_cell_height": 97.328125
   }
  },
  {
   "cell_type": "code",
   "metadata": {
    "cell_id": "bc822b74c05f4612bf9b05d909d91cf1",
    "tags": [],
    "deepnote_to_be_reexecuted": false,
    "source_hash": "28d9292c",
    "execution_start": 1649431013675,
    "execution_millis": 444,
    "deepnote_cell_type": "code",
    "deepnote_cell_height": 334.1875,
    "deepnote_output_heights": [
     21.1875
    ]
   },
   "source": [
    "Tenor = 10\n",
    "Delta = 0.5\n",
    "T = 5\n",
    "L = 0.2**4\n",
    "\n",
    "M = 2\n",
    "N = 10\n",
    "\n",
    "term1 = h_1(L, M, N)*Black76Lognormal(F, L, 0, SABR(F, L, T, alpha, 0.9, rho, nu),T,\"Call\")\n",
    "term2 = integrate.quad(lambda x: h_2(x, M, N)*Black76Lognormal(F, x, 0, SABR(F, x, T, alpha, 0.9, rho, nu),T,\"Call\"),\n",
    "                                                    L,1000)\n",
    "PV_caplet = term1+ term2[0]\n",
    "PV_caplet"
   ],
   "execution_count": 9,
   "outputs": [
    {
     "data": {
      "text/plain": "0.030989894458155975"
     },
     "execution_count": 9,
     "metadata": {},
     "output_type": "execute_result"
    }
   ]
  },
  {
   "cell_type": "code",
   "metadata": {
    "cell_id": "d608e1478fba445ebe5371590e565e40",
    "tags": [],
    "deepnote_to_be_reexecuted": false,
    "source_hash": "df67351c",
    "execution_start": 1649431014079,
    "execution_millis": 0,
    "deepnote_cell_type": "code",
    "deepnote_cell_height": 112.1875,
    "pycharm": {
     "name": "#%%\n"
    }
   },
   "source": [
    "print (\"The PV of this option using static replication is:\",PV_caplet )"
   ],
   "execution_count": 10,
   "outputs": [
    {
     "name": "stdout",
     "output_type": "stream",
     "text": [
      "The PV of this option using static replication is: 0.030989894458155975\n"
     ]
    }
   ]
  }
 ],
 "nbformat": 4,
 "nbformat_minor": 2,
 "metadata": {
  "orig_nbformat": 2,
  "deepnote": {
   "is_reactive": false
  },
  "deepnote_notebook_id": "61632d80-ce85-4ad6-b13d-3cfe41276f87",
  "deepnote_execution_queue": []
 }
}